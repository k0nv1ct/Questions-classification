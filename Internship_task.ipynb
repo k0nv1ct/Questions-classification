{
  "metadata": {
    "kernelspec": {
      "display_name": "Python 3",
      "name": "python3"
    },
    "language_info": {
      "name": "python",
      "version": "3.10.10",
      "mimetype": "text/x-python",
      "codemirror_mode": {
        "name": "ipython",
        "version": 3
      },
      "pygments_lexer": "ipython3",
      "nbconvert_exporter": "python",
      "file_extension": ".py"
    },
    "colab": {
      "provenance": [],
      "gpuType": "T4"
    },
    "accelerator": "GPU",
    "widgets": {
      "application/vnd.jupyter.widget-state+json": {
        "a7a1f513272e443883f3ec0ab19008cd": {
          "model_module": "@jupyter-widgets/controls",
          "model_name": "HBoxModel",
          "model_module_version": "1.5.0",
          "state": {
            "_dom_classes": [],
            "_model_module": "@jupyter-widgets/controls",
            "_model_module_version": "1.5.0",
            "_model_name": "HBoxModel",
            "_view_count": null,
            "_view_module": "@jupyter-widgets/controls",
            "_view_module_version": "1.5.0",
            "_view_name": "HBoxView",
            "box_style": "",
            "children": [
              "IPY_MODEL_58c5b46bcf90487fabac768bcb115a7d",
              "IPY_MODEL_b3993cf745a548df8246fc1a99685f88",
              "IPY_MODEL_091c9409ddc24c9f8ea6192a2d895872"
            ],
            "layout": "IPY_MODEL_6fe3c546ca554fadb37be815eefd6544"
          }
        },
        "58c5b46bcf90487fabac768bcb115a7d": {
          "model_module": "@jupyter-widgets/controls",
          "model_name": "HTMLModel",
          "model_module_version": "1.5.0",
          "state": {
            "_dom_classes": [],
            "_model_module": "@jupyter-widgets/controls",
            "_model_module_version": "1.5.0",
            "_model_name": "HTMLModel",
            "_view_count": null,
            "_view_module": "@jupyter-widgets/controls",
            "_view_module_version": "1.5.0",
            "_view_name": "HTMLView",
            "description": "",
            "description_tooltip": null,
            "layout": "IPY_MODEL_7660ab8e11ce4cf2871ffef21df54c5a",
            "placeholder": "​",
            "style": "IPY_MODEL_be707a1dec1447d9865208caabf4d085",
            "value": "Downloading (…)okenizer_config.json: 100%"
          }
        },
        "b3993cf745a548df8246fc1a99685f88": {
          "model_module": "@jupyter-widgets/controls",
          "model_name": "FloatProgressModel",
          "model_module_version": "1.5.0",
          "state": {
            "_dom_classes": [],
            "_model_module": "@jupyter-widgets/controls",
            "_model_module_version": "1.5.0",
            "_model_name": "FloatProgressModel",
            "_view_count": null,
            "_view_module": "@jupyter-widgets/controls",
            "_view_module_version": "1.5.0",
            "_view_name": "ProgressView",
            "bar_style": "success",
            "description": "",
            "description_tooltip": null,
            "layout": "IPY_MODEL_0146b1d694f44dd3862d9d6610a11c1f",
            "max": 28,
            "min": 0,
            "orientation": "horizontal",
            "style": "IPY_MODEL_d83cf8a16f594aa692bdabdde262cbbb",
            "value": 28
          }
        },
        "091c9409ddc24c9f8ea6192a2d895872": {
          "model_module": "@jupyter-widgets/controls",
          "model_name": "HTMLModel",
          "model_module_version": "1.5.0",
          "state": {
            "_dom_classes": [],
            "_model_module": "@jupyter-widgets/controls",
            "_model_module_version": "1.5.0",
            "_model_name": "HTMLModel",
            "_view_count": null,
            "_view_module": "@jupyter-widgets/controls",
            "_view_module_version": "1.5.0",
            "_view_name": "HTMLView",
            "description": "",
            "description_tooltip": null,
            "layout": "IPY_MODEL_03ea6dbc969f44c284b11195ab365084",
            "placeholder": "​",
            "style": "IPY_MODEL_c182b9299e964ab39fccce0700e044cb",
            "value": " 28.0/28.0 [00:00&lt;00:00, 1.26kB/s]"
          }
        },
        "6fe3c546ca554fadb37be815eefd6544": {
          "model_module": "@jupyter-widgets/base",
          "model_name": "LayoutModel",
          "model_module_version": "1.2.0",
          "state": {
            "_model_module": "@jupyter-widgets/base",
            "_model_module_version": "1.2.0",
            "_model_name": "LayoutModel",
            "_view_count": null,
            "_view_module": "@jupyter-widgets/base",
            "_view_module_version": "1.2.0",
            "_view_name": "LayoutView",
            "align_content": null,
            "align_items": null,
            "align_self": null,
            "border": null,
            "bottom": null,
            "display": null,
            "flex": null,
            "flex_flow": null,
            "grid_area": null,
            "grid_auto_columns": null,
            "grid_auto_flow": null,
            "grid_auto_rows": null,
            "grid_column": null,
            "grid_gap": null,
            "grid_row": null,
            "grid_template_areas": null,
            "grid_template_columns": null,
            "grid_template_rows": null,
            "height": null,
            "justify_content": null,
            "justify_items": null,
            "left": null,
            "margin": null,
            "max_height": null,
            "max_width": null,
            "min_height": null,
            "min_width": null,
            "object_fit": null,
            "object_position": null,
            "order": null,
            "overflow": null,
            "overflow_x": null,
            "overflow_y": null,
            "padding": null,
            "right": null,
            "top": null,
            "visibility": null,
            "width": null
          }
        },
        "7660ab8e11ce4cf2871ffef21df54c5a": {
          "model_module": "@jupyter-widgets/base",
          "model_name": "LayoutModel",
          "model_module_version": "1.2.0",
          "state": {
            "_model_module": "@jupyter-widgets/base",
            "_model_module_version": "1.2.0",
            "_model_name": "LayoutModel",
            "_view_count": null,
            "_view_module": "@jupyter-widgets/base",
            "_view_module_version": "1.2.0",
            "_view_name": "LayoutView",
            "align_content": null,
            "align_items": null,
            "align_self": null,
            "border": null,
            "bottom": null,
            "display": null,
            "flex": null,
            "flex_flow": null,
            "grid_area": null,
            "grid_auto_columns": null,
            "grid_auto_flow": null,
            "grid_auto_rows": null,
            "grid_column": null,
            "grid_gap": null,
            "grid_row": null,
            "grid_template_areas": null,
            "grid_template_columns": null,
            "grid_template_rows": null,
            "height": null,
            "justify_content": null,
            "justify_items": null,
            "left": null,
            "margin": null,
            "max_height": null,
            "max_width": null,
            "min_height": null,
            "min_width": null,
            "object_fit": null,
            "object_position": null,
            "order": null,
            "overflow": null,
            "overflow_x": null,
            "overflow_y": null,
            "padding": null,
            "right": null,
            "top": null,
            "visibility": null,
            "width": null
          }
        },
        "be707a1dec1447d9865208caabf4d085": {
          "model_module": "@jupyter-widgets/controls",
          "model_name": "DescriptionStyleModel",
          "model_module_version": "1.5.0",
          "state": {
            "_model_module": "@jupyter-widgets/controls",
            "_model_module_version": "1.5.0",
            "_model_name": "DescriptionStyleModel",
            "_view_count": null,
            "_view_module": "@jupyter-widgets/base",
            "_view_module_version": "1.2.0",
            "_view_name": "StyleView",
            "description_width": ""
          }
        },
        "0146b1d694f44dd3862d9d6610a11c1f": {
          "model_module": "@jupyter-widgets/base",
          "model_name": "LayoutModel",
          "model_module_version": "1.2.0",
          "state": {
            "_model_module": "@jupyter-widgets/base",
            "_model_module_version": "1.2.0",
            "_model_name": "LayoutModel",
            "_view_count": null,
            "_view_module": "@jupyter-widgets/base",
            "_view_module_version": "1.2.0",
            "_view_name": "LayoutView",
            "align_content": null,
            "align_items": null,
            "align_self": null,
            "border": null,
            "bottom": null,
            "display": null,
            "flex": null,
            "flex_flow": null,
            "grid_area": null,
            "grid_auto_columns": null,
            "grid_auto_flow": null,
            "grid_auto_rows": null,
            "grid_column": null,
            "grid_gap": null,
            "grid_row": null,
            "grid_template_areas": null,
            "grid_template_columns": null,
            "grid_template_rows": null,
            "height": null,
            "justify_content": null,
            "justify_items": null,
            "left": null,
            "margin": null,
            "max_height": null,
            "max_width": null,
            "min_height": null,
            "min_width": null,
            "object_fit": null,
            "object_position": null,
            "order": null,
            "overflow": null,
            "overflow_x": null,
            "overflow_y": null,
            "padding": null,
            "right": null,
            "top": null,
            "visibility": null,
            "width": null
          }
        },
        "d83cf8a16f594aa692bdabdde262cbbb": {
          "model_module": "@jupyter-widgets/controls",
          "model_name": "ProgressStyleModel",
          "model_module_version": "1.5.0",
          "state": {
            "_model_module": "@jupyter-widgets/controls",
            "_model_module_version": "1.5.0",
            "_model_name": "ProgressStyleModel",
            "_view_count": null,
            "_view_module": "@jupyter-widgets/base",
            "_view_module_version": "1.2.0",
            "_view_name": "StyleView",
            "bar_color": null,
            "description_width": ""
          }
        },
        "03ea6dbc969f44c284b11195ab365084": {
          "model_module": "@jupyter-widgets/base",
          "model_name": "LayoutModel",
          "model_module_version": "1.2.0",
          "state": {
            "_model_module": "@jupyter-widgets/base",
            "_model_module_version": "1.2.0",
            "_model_name": "LayoutModel",
            "_view_count": null,
            "_view_module": "@jupyter-widgets/base",
            "_view_module_version": "1.2.0",
            "_view_name": "LayoutView",
            "align_content": null,
            "align_items": null,
            "align_self": null,
            "border": null,
            "bottom": null,
            "display": null,
            "flex": null,
            "flex_flow": null,
            "grid_area": null,
            "grid_auto_columns": null,
            "grid_auto_flow": null,
            "grid_auto_rows": null,
            "grid_column": null,
            "grid_gap": null,
            "grid_row": null,
            "grid_template_areas": null,
            "grid_template_columns": null,
            "grid_template_rows": null,
            "height": null,
            "justify_content": null,
            "justify_items": null,
            "left": null,
            "margin": null,
            "max_height": null,
            "max_width": null,
            "min_height": null,
            "min_width": null,
            "object_fit": null,
            "object_position": null,
            "order": null,
            "overflow": null,
            "overflow_x": null,
            "overflow_y": null,
            "padding": null,
            "right": null,
            "top": null,
            "visibility": null,
            "width": null
          }
        },
        "c182b9299e964ab39fccce0700e044cb": {
          "model_module": "@jupyter-widgets/controls",
          "model_name": "DescriptionStyleModel",
          "model_module_version": "1.5.0",
          "state": {
            "_model_module": "@jupyter-widgets/controls",
            "_model_module_version": "1.5.0",
            "_model_name": "DescriptionStyleModel",
            "_view_count": null,
            "_view_module": "@jupyter-widgets/base",
            "_view_module_version": "1.2.0",
            "_view_name": "StyleView",
            "description_width": ""
          }
        },
        "d21f9cf918d64d73b3813796b6b37006": {
          "model_module": "@jupyter-widgets/controls",
          "model_name": "HBoxModel",
          "model_module_version": "1.5.0",
          "state": {
            "_dom_classes": [],
            "_model_module": "@jupyter-widgets/controls",
            "_model_module_version": "1.5.0",
            "_model_name": "HBoxModel",
            "_view_count": null,
            "_view_module": "@jupyter-widgets/controls",
            "_view_module_version": "1.5.0",
            "_view_name": "HBoxView",
            "box_style": "",
            "children": [
              "IPY_MODEL_80c5a43c91db4e41b3ec395bca862da2",
              "IPY_MODEL_5ef1789471784563a87e96c6ee96e915",
              "IPY_MODEL_a276c4c1ae6c4f2b8b01a993f68ca4ee"
            ],
            "layout": "IPY_MODEL_53ba9ca3484248938538d1141fbd5e4a"
          }
        },
        "80c5a43c91db4e41b3ec395bca862da2": {
          "model_module": "@jupyter-widgets/controls",
          "model_name": "HTMLModel",
          "model_module_version": "1.5.0",
          "state": {
            "_dom_classes": [],
            "_model_module": "@jupyter-widgets/controls",
            "_model_module_version": "1.5.0",
            "_model_name": "HTMLModel",
            "_view_count": null,
            "_view_module": "@jupyter-widgets/controls",
            "_view_module_version": "1.5.0",
            "_view_name": "HTMLView",
            "description": "",
            "description_tooltip": null,
            "layout": "IPY_MODEL_ee88034eaa2a4a16a366fc9f91269f34",
            "placeholder": "​",
            "style": "IPY_MODEL_eafe378c1ad542acadc7acf7a2a9dd18",
            "value": "Downloading (…)lve/main/config.json: 100%"
          }
        },
        "5ef1789471784563a87e96c6ee96e915": {
          "model_module": "@jupyter-widgets/controls",
          "model_name": "FloatProgressModel",
          "model_module_version": "1.5.0",
          "state": {
            "_dom_classes": [],
            "_model_module": "@jupyter-widgets/controls",
            "_model_module_version": "1.5.0",
            "_model_name": "FloatProgressModel",
            "_view_count": null,
            "_view_module": "@jupyter-widgets/controls",
            "_view_module_version": "1.5.0",
            "_view_name": "ProgressView",
            "bar_style": "success",
            "description": "",
            "description_tooltip": null,
            "layout": "IPY_MODEL_eda6f618f36e491bbd03f458517cc626",
            "max": 570,
            "min": 0,
            "orientation": "horizontal",
            "style": "IPY_MODEL_83a749bbaa4d4f7e816c11c8cef1b8fa",
            "value": 570
          }
        },
        "a276c4c1ae6c4f2b8b01a993f68ca4ee": {
          "model_module": "@jupyter-widgets/controls",
          "model_name": "HTMLModel",
          "model_module_version": "1.5.0",
          "state": {
            "_dom_classes": [],
            "_model_module": "@jupyter-widgets/controls",
            "_model_module_version": "1.5.0",
            "_model_name": "HTMLModel",
            "_view_count": null,
            "_view_module": "@jupyter-widgets/controls",
            "_view_module_version": "1.5.0",
            "_view_name": "HTMLView",
            "description": "",
            "description_tooltip": null,
            "layout": "IPY_MODEL_a729edeb60d34381a1218d08c605a5f2",
            "placeholder": "​",
            "style": "IPY_MODEL_ba7d442e437f421e86e01df492a2c8cc",
            "value": " 570/570 [00:00&lt;00:00, 44.8kB/s]"
          }
        },
        "53ba9ca3484248938538d1141fbd5e4a": {
          "model_module": "@jupyter-widgets/base",
          "model_name": "LayoutModel",
          "model_module_version": "1.2.0",
          "state": {
            "_model_module": "@jupyter-widgets/base",
            "_model_module_version": "1.2.0",
            "_model_name": "LayoutModel",
            "_view_count": null,
            "_view_module": "@jupyter-widgets/base",
            "_view_module_version": "1.2.0",
            "_view_name": "LayoutView",
            "align_content": null,
            "align_items": null,
            "align_self": null,
            "border": null,
            "bottom": null,
            "display": null,
            "flex": null,
            "flex_flow": null,
            "grid_area": null,
            "grid_auto_columns": null,
            "grid_auto_flow": null,
            "grid_auto_rows": null,
            "grid_column": null,
            "grid_gap": null,
            "grid_row": null,
            "grid_template_areas": null,
            "grid_template_columns": null,
            "grid_template_rows": null,
            "height": null,
            "justify_content": null,
            "justify_items": null,
            "left": null,
            "margin": null,
            "max_height": null,
            "max_width": null,
            "min_height": null,
            "min_width": null,
            "object_fit": null,
            "object_position": null,
            "order": null,
            "overflow": null,
            "overflow_x": null,
            "overflow_y": null,
            "padding": null,
            "right": null,
            "top": null,
            "visibility": null,
            "width": null
          }
        },
        "ee88034eaa2a4a16a366fc9f91269f34": {
          "model_module": "@jupyter-widgets/base",
          "model_name": "LayoutModel",
          "model_module_version": "1.2.0",
          "state": {
            "_model_module": "@jupyter-widgets/base",
            "_model_module_version": "1.2.0",
            "_model_name": "LayoutModel",
            "_view_count": null,
            "_view_module": "@jupyter-widgets/base",
            "_view_module_version": "1.2.0",
            "_view_name": "LayoutView",
            "align_content": null,
            "align_items": null,
            "align_self": null,
            "border": null,
            "bottom": null,
            "display": null,
            "flex": null,
            "flex_flow": null,
            "grid_area": null,
            "grid_auto_columns": null,
            "grid_auto_flow": null,
            "grid_auto_rows": null,
            "grid_column": null,
            "grid_gap": null,
            "grid_row": null,
            "grid_template_areas": null,
            "grid_template_columns": null,
            "grid_template_rows": null,
            "height": null,
            "justify_content": null,
            "justify_items": null,
            "left": null,
            "margin": null,
            "max_height": null,
            "max_width": null,
            "min_height": null,
            "min_width": null,
            "object_fit": null,
            "object_position": null,
            "order": null,
            "overflow": null,
            "overflow_x": null,
            "overflow_y": null,
            "padding": null,
            "right": null,
            "top": null,
            "visibility": null,
            "width": null
          }
        },
        "eafe378c1ad542acadc7acf7a2a9dd18": {
          "model_module": "@jupyter-widgets/controls",
          "model_name": "DescriptionStyleModel",
          "model_module_version": "1.5.0",
          "state": {
            "_model_module": "@jupyter-widgets/controls",
            "_model_module_version": "1.5.0",
            "_model_name": "DescriptionStyleModel",
            "_view_count": null,
            "_view_module": "@jupyter-widgets/base",
            "_view_module_version": "1.2.0",
            "_view_name": "StyleView",
            "description_width": ""
          }
        },
        "eda6f618f36e491bbd03f458517cc626": {
          "model_module": "@jupyter-widgets/base",
          "model_name": "LayoutModel",
          "model_module_version": "1.2.0",
          "state": {
            "_model_module": "@jupyter-widgets/base",
            "_model_module_version": "1.2.0",
            "_model_name": "LayoutModel",
            "_view_count": null,
            "_view_module": "@jupyter-widgets/base",
            "_view_module_version": "1.2.0",
            "_view_name": "LayoutView",
            "align_content": null,
            "align_items": null,
            "align_self": null,
            "border": null,
            "bottom": null,
            "display": null,
            "flex": null,
            "flex_flow": null,
            "grid_area": null,
            "grid_auto_columns": null,
            "grid_auto_flow": null,
            "grid_auto_rows": null,
            "grid_column": null,
            "grid_gap": null,
            "grid_row": null,
            "grid_template_areas": null,
            "grid_template_columns": null,
            "grid_template_rows": null,
            "height": null,
            "justify_content": null,
            "justify_items": null,
            "left": null,
            "margin": null,
            "max_height": null,
            "max_width": null,
            "min_height": null,
            "min_width": null,
            "object_fit": null,
            "object_position": null,
            "order": null,
            "overflow": null,
            "overflow_x": null,
            "overflow_y": null,
            "padding": null,
            "right": null,
            "top": null,
            "visibility": null,
            "width": null
          }
        },
        "83a749bbaa4d4f7e816c11c8cef1b8fa": {
          "model_module": "@jupyter-widgets/controls",
          "model_name": "ProgressStyleModel",
          "model_module_version": "1.5.0",
          "state": {
            "_model_module": "@jupyter-widgets/controls",
            "_model_module_version": "1.5.0",
            "_model_name": "ProgressStyleModel",
            "_view_count": null,
            "_view_module": "@jupyter-widgets/base",
            "_view_module_version": "1.2.0",
            "_view_name": "StyleView",
            "bar_color": null,
            "description_width": ""
          }
        },
        "a729edeb60d34381a1218d08c605a5f2": {
          "model_module": "@jupyter-widgets/base",
          "model_name": "LayoutModel",
          "model_module_version": "1.2.0",
          "state": {
            "_model_module": "@jupyter-widgets/base",
            "_model_module_version": "1.2.0",
            "_model_name": "LayoutModel",
            "_view_count": null,
            "_view_module": "@jupyter-widgets/base",
            "_view_module_version": "1.2.0",
            "_view_name": "LayoutView",
            "align_content": null,
            "align_items": null,
            "align_self": null,
            "border": null,
            "bottom": null,
            "display": null,
            "flex": null,
            "flex_flow": null,
            "grid_area": null,
            "grid_auto_columns": null,
            "grid_auto_flow": null,
            "grid_auto_rows": null,
            "grid_column": null,
            "grid_gap": null,
            "grid_row": null,
            "grid_template_areas": null,
            "grid_template_columns": null,
            "grid_template_rows": null,
            "height": null,
            "justify_content": null,
            "justify_items": null,
            "left": null,
            "margin": null,
            "max_height": null,
            "max_width": null,
            "min_height": null,
            "min_width": null,
            "object_fit": null,
            "object_position": null,
            "order": null,
            "overflow": null,
            "overflow_x": null,
            "overflow_y": null,
            "padding": null,
            "right": null,
            "top": null,
            "visibility": null,
            "width": null
          }
        },
        "ba7d442e437f421e86e01df492a2c8cc": {
          "model_module": "@jupyter-widgets/controls",
          "model_name": "DescriptionStyleModel",
          "model_module_version": "1.5.0",
          "state": {
            "_model_module": "@jupyter-widgets/controls",
            "_model_module_version": "1.5.0",
            "_model_name": "DescriptionStyleModel",
            "_view_count": null,
            "_view_module": "@jupyter-widgets/base",
            "_view_module_version": "1.2.0",
            "_view_name": "StyleView",
            "description_width": ""
          }
        },
        "39224abb1a8c422d8de4b31cbd63ac60": {
          "model_module": "@jupyter-widgets/controls",
          "model_name": "HBoxModel",
          "model_module_version": "1.5.0",
          "state": {
            "_dom_classes": [],
            "_model_module": "@jupyter-widgets/controls",
            "_model_module_version": "1.5.0",
            "_model_name": "HBoxModel",
            "_view_count": null,
            "_view_module": "@jupyter-widgets/controls",
            "_view_module_version": "1.5.0",
            "_view_name": "HBoxView",
            "box_style": "",
            "children": [
              "IPY_MODEL_4427c93bcbf64f13a8385d0396c35f23",
              "IPY_MODEL_029e156563b2403e8d6649da5c79b226",
              "IPY_MODEL_c61e7ed3e121465dbc83625d7faf6895"
            ],
            "layout": "IPY_MODEL_57fe6d560ea643c6be148fd72b8c9d07"
          }
        },
        "4427c93bcbf64f13a8385d0396c35f23": {
          "model_module": "@jupyter-widgets/controls",
          "model_name": "HTMLModel",
          "model_module_version": "1.5.0",
          "state": {
            "_dom_classes": [],
            "_model_module": "@jupyter-widgets/controls",
            "_model_module_version": "1.5.0",
            "_model_name": "HTMLModel",
            "_view_count": null,
            "_view_module": "@jupyter-widgets/controls",
            "_view_module_version": "1.5.0",
            "_view_name": "HTMLView",
            "description": "",
            "description_tooltip": null,
            "layout": "IPY_MODEL_9e53c9b42c2c486bae28bed2135b0ae6",
            "placeholder": "​",
            "style": "IPY_MODEL_f181e2946ac6492ab39132cf99fe9729",
            "value": "Downloading (…)solve/main/vocab.txt: 100%"
          }
        },
        "029e156563b2403e8d6649da5c79b226": {
          "model_module": "@jupyter-widgets/controls",
          "model_name": "FloatProgressModel",
          "model_module_version": "1.5.0",
          "state": {
            "_dom_classes": [],
            "_model_module": "@jupyter-widgets/controls",
            "_model_module_version": "1.5.0",
            "_model_name": "FloatProgressModel",
            "_view_count": null,
            "_view_module": "@jupyter-widgets/controls",
            "_view_module_version": "1.5.0",
            "_view_name": "ProgressView",
            "bar_style": "success",
            "description": "",
            "description_tooltip": null,
            "layout": "IPY_MODEL_c0195cef2fb343a68336a7da60690d74",
            "max": 231508,
            "min": 0,
            "orientation": "horizontal",
            "style": "IPY_MODEL_76cd1f4d6c864d299f53222d6fc3cf2b",
            "value": 231508
          }
        },
        "c61e7ed3e121465dbc83625d7faf6895": {
          "model_module": "@jupyter-widgets/controls",
          "model_name": "HTMLModel",
          "model_module_version": "1.5.0",
          "state": {
            "_dom_classes": [],
            "_model_module": "@jupyter-widgets/controls",
            "_model_module_version": "1.5.0",
            "_model_name": "HTMLModel",
            "_view_count": null,
            "_view_module": "@jupyter-widgets/controls",
            "_view_module_version": "1.5.0",
            "_view_name": "HTMLView",
            "description": "",
            "description_tooltip": null,
            "layout": "IPY_MODEL_41a2f1e7e65048d0be56c1155d881d39",
            "placeholder": "​",
            "style": "IPY_MODEL_e4c37af685634602bfcb41ec496d7004",
            "value": " 232k/232k [00:00&lt;00:00, 548kB/s]"
          }
        },
        "57fe6d560ea643c6be148fd72b8c9d07": {
          "model_module": "@jupyter-widgets/base",
          "model_name": "LayoutModel",
          "model_module_version": "1.2.0",
          "state": {
            "_model_module": "@jupyter-widgets/base",
            "_model_module_version": "1.2.0",
            "_model_name": "LayoutModel",
            "_view_count": null,
            "_view_module": "@jupyter-widgets/base",
            "_view_module_version": "1.2.0",
            "_view_name": "LayoutView",
            "align_content": null,
            "align_items": null,
            "align_self": null,
            "border": null,
            "bottom": null,
            "display": null,
            "flex": null,
            "flex_flow": null,
            "grid_area": null,
            "grid_auto_columns": null,
            "grid_auto_flow": null,
            "grid_auto_rows": null,
            "grid_column": null,
            "grid_gap": null,
            "grid_row": null,
            "grid_template_areas": null,
            "grid_template_columns": null,
            "grid_template_rows": null,
            "height": null,
            "justify_content": null,
            "justify_items": null,
            "left": null,
            "margin": null,
            "max_height": null,
            "max_width": null,
            "min_height": null,
            "min_width": null,
            "object_fit": null,
            "object_position": null,
            "order": null,
            "overflow": null,
            "overflow_x": null,
            "overflow_y": null,
            "padding": null,
            "right": null,
            "top": null,
            "visibility": null,
            "width": null
          }
        },
        "9e53c9b42c2c486bae28bed2135b0ae6": {
          "model_module": "@jupyter-widgets/base",
          "model_name": "LayoutModel",
          "model_module_version": "1.2.0",
          "state": {
            "_model_module": "@jupyter-widgets/base",
            "_model_module_version": "1.2.0",
            "_model_name": "LayoutModel",
            "_view_count": null,
            "_view_module": "@jupyter-widgets/base",
            "_view_module_version": "1.2.0",
            "_view_name": "LayoutView",
            "align_content": null,
            "align_items": null,
            "align_self": null,
            "border": null,
            "bottom": null,
            "display": null,
            "flex": null,
            "flex_flow": null,
            "grid_area": null,
            "grid_auto_columns": null,
            "grid_auto_flow": null,
            "grid_auto_rows": null,
            "grid_column": null,
            "grid_gap": null,
            "grid_row": null,
            "grid_template_areas": null,
            "grid_template_columns": null,
            "grid_template_rows": null,
            "height": null,
            "justify_content": null,
            "justify_items": null,
            "left": null,
            "margin": null,
            "max_height": null,
            "max_width": null,
            "min_height": null,
            "min_width": null,
            "object_fit": null,
            "object_position": null,
            "order": null,
            "overflow": null,
            "overflow_x": null,
            "overflow_y": null,
            "padding": null,
            "right": null,
            "top": null,
            "visibility": null,
            "width": null
          }
        },
        "f181e2946ac6492ab39132cf99fe9729": {
          "model_module": "@jupyter-widgets/controls",
          "model_name": "DescriptionStyleModel",
          "model_module_version": "1.5.0",
          "state": {
            "_model_module": "@jupyter-widgets/controls",
            "_model_module_version": "1.5.0",
            "_model_name": "DescriptionStyleModel",
            "_view_count": null,
            "_view_module": "@jupyter-widgets/base",
            "_view_module_version": "1.2.0",
            "_view_name": "StyleView",
            "description_width": ""
          }
        },
        "c0195cef2fb343a68336a7da60690d74": {
          "model_module": "@jupyter-widgets/base",
          "model_name": "LayoutModel",
          "model_module_version": "1.2.0",
          "state": {
            "_model_module": "@jupyter-widgets/base",
            "_model_module_version": "1.2.0",
            "_model_name": "LayoutModel",
            "_view_count": null,
            "_view_module": "@jupyter-widgets/base",
            "_view_module_version": "1.2.0",
            "_view_name": "LayoutView",
            "align_content": null,
            "align_items": null,
            "align_self": null,
            "border": null,
            "bottom": null,
            "display": null,
            "flex": null,
            "flex_flow": null,
            "grid_area": null,
            "grid_auto_columns": null,
            "grid_auto_flow": null,
            "grid_auto_rows": null,
            "grid_column": null,
            "grid_gap": null,
            "grid_row": null,
            "grid_template_areas": null,
            "grid_template_columns": null,
            "grid_template_rows": null,
            "height": null,
            "justify_content": null,
            "justify_items": null,
            "left": null,
            "margin": null,
            "max_height": null,
            "max_width": null,
            "min_height": null,
            "min_width": null,
            "object_fit": null,
            "object_position": null,
            "order": null,
            "overflow": null,
            "overflow_x": null,
            "overflow_y": null,
            "padding": null,
            "right": null,
            "top": null,
            "visibility": null,
            "width": null
          }
        },
        "76cd1f4d6c864d299f53222d6fc3cf2b": {
          "model_module": "@jupyter-widgets/controls",
          "model_name": "ProgressStyleModel",
          "model_module_version": "1.5.0",
          "state": {
            "_model_module": "@jupyter-widgets/controls",
            "_model_module_version": "1.5.0",
            "_model_name": "ProgressStyleModel",
            "_view_count": null,
            "_view_module": "@jupyter-widgets/base",
            "_view_module_version": "1.2.0",
            "_view_name": "StyleView",
            "bar_color": null,
            "description_width": ""
          }
        },
        "41a2f1e7e65048d0be56c1155d881d39": {
          "model_module": "@jupyter-widgets/base",
          "model_name": "LayoutModel",
          "model_module_version": "1.2.0",
          "state": {
            "_model_module": "@jupyter-widgets/base",
            "_model_module_version": "1.2.0",
            "_model_name": "LayoutModel",
            "_view_count": null,
            "_view_module": "@jupyter-widgets/base",
            "_view_module_version": "1.2.0",
            "_view_name": "LayoutView",
            "align_content": null,
            "align_items": null,
            "align_self": null,
            "border": null,
            "bottom": null,
            "display": null,
            "flex": null,
            "flex_flow": null,
            "grid_area": null,
            "grid_auto_columns": null,
            "grid_auto_flow": null,
            "grid_auto_rows": null,
            "grid_column": null,
            "grid_gap": null,
            "grid_row": null,
            "grid_template_areas": null,
            "grid_template_columns": null,
            "grid_template_rows": null,
            "height": null,
            "justify_content": null,
            "justify_items": null,
            "left": null,
            "margin": null,
            "max_height": null,
            "max_width": null,
            "min_height": null,
            "min_width": null,
            "object_fit": null,
            "object_position": null,
            "order": null,
            "overflow": null,
            "overflow_x": null,
            "overflow_y": null,
            "padding": null,
            "right": null,
            "top": null,
            "visibility": null,
            "width": null
          }
        },
        "e4c37af685634602bfcb41ec496d7004": {
          "model_module": "@jupyter-widgets/controls",
          "model_name": "DescriptionStyleModel",
          "model_module_version": "1.5.0",
          "state": {
            "_model_module": "@jupyter-widgets/controls",
            "_model_module_version": "1.5.0",
            "_model_name": "DescriptionStyleModel",
            "_view_count": null,
            "_view_module": "@jupyter-widgets/base",
            "_view_module_version": "1.2.0",
            "_view_name": "StyleView",
            "description_width": ""
          }
        },
        "f370e2e5266b4ecd92cf24b36b28cbdf": {
          "model_module": "@jupyter-widgets/controls",
          "model_name": "HBoxModel",
          "model_module_version": "1.5.0",
          "state": {
            "_dom_classes": [],
            "_model_module": "@jupyter-widgets/controls",
            "_model_module_version": "1.5.0",
            "_model_name": "HBoxModel",
            "_view_count": null,
            "_view_module": "@jupyter-widgets/controls",
            "_view_module_version": "1.5.0",
            "_view_name": "HBoxView",
            "box_style": "",
            "children": [
              "IPY_MODEL_4e8d1839f9a848749c0426537759b427",
              "IPY_MODEL_19e57471e1e046cea2846a8c84402265",
              "IPY_MODEL_80efaccbe6924d529d7eaf46127ffe4c"
            ],
            "layout": "IPY_MODEL_921fc974b9544cec9ed554f9b2fcb03f"
          }
        },
        "4e8d1839f9a848749c0426537759b427": {
          "model_module": "@jupyter-widgets/controls",
          "model_name": "HTMLModel",
          "model_module_version": "1.5.0",
          "state": {
            "_dom_classes": [],
            "_model_module": "@jupyter-widgets/controls",
            "_model_module_version": "1.5.0",
            "_model_name": "HTMLModel",
            "_view_count": null,
            "_view_module": "@jupyter-widgets/controls",
            "_view_module_version": "1.5.0",
            "_view_name": "HTMLView",
            "description": "",
            "description_tooltip": null,
            "layout": "IPY_MODEL_b1d67e0621ef4c0db3b5fb193e40b7b4",
            "placeholder": "​",
            "style": "IPY_MODEL_aa3773ef55ee4cbc91fe46229d1686aa",
            "value": "Downloading (…)/main/tokenizer.json: 100%"
          }
        },
        "19e57471e1e046cea2846a8c84402265": {
          "model_module": "@jupyter-widgets/controls",
          "model_name": "FloatProgressModel",
          "model_module_version": "1.5.0",
          "state": {
            "_dom_classes": [],
            "_model_module": "@jupyter-widgets/controls",
            "_model_module_version": "1.5.0",
            "_model_name": "FloatProgressModel",
            "_view_count": null,
            "_view_module": "@jupyter-widgets/controls",
            "_view_module_version": "1.5.0",
            "_view_name": "ProgressView",
            "bar_style": "success",
            "description": "",
            "description_tooltip": null,
            "layout": "IPY_MODEL_c79fd7f0da154480b0700eb312f6179e",
            "max": 466062,
            "min": 0,
            "orientation": "horizontal",
            "style": "IPY_MODEL_4bf5f7155eb3475eaeb50e53378624bd",
            "value": 466062
          }
        },
        "80efaccbe6924d529d7eaf46127ffe4c": {
          "model_module": "@jupyter-widgets/controls",
          "model_name": "HTMLModel",
          "model_module_version": "1.5.0",
          "state": {
            "_dom_classes": [],
            "_model_module": "@jupyter-widgets/controls",
            "_model_module_version": "1.5.0",
            "_model_name": "HTMLModel",
            "_view_count": null,
            "_view_module": "@jupyter-widgets/controls",
            "_view_module_version": "1.5.0",
            "_view_name": "HTMLView",
            "description": "",
            "description_tooltip": null,
            "layout": "IPY_MODEL_1ca0aec7215440f38f4cf765885f7567",
            "placeholder": "​",
            "style": "IPY_MODEL_c5ab13548203470cb1ceac545f93b7cb",
            "value": " 466k/466k [00:00&lt;00:00, 1.11MB/s]"
          }
        },
        "921fc974b9544cec9ed554f9b2fcb03f": {
          "model_module": "@jupyter-widgets/base",
          "model_name": "LayoutModel",
          "model_module_version": "1.2.0",
          "state": {
            "_model_module": "@jupyter-widgets/base",
            "_model_module_version": "1.2.0",
            "_model_name": "LayoutModel",
            "_view_count": null,
            "_view_module": "@jupyter-widgets/base",
            "_view_module_version": "1.2.0",
            "_view_name": "LayoutView",
            "align_content": null,
            "align_items": null,
            "align_self": null,
            "border": null,
            "bottom": null,
            "display": null,
            "flex": null,
            "flex_flow": null,
            "grid_area": null,
            "grid_auto_columns": null,
            "grid_auto_flow": null,
            "grid_auto_rows": null,
            "grid_column": null,
            "grid_gap": null,
            "grid_row": null,
            "grid_template_areas": null,
            "grid_template_columns": null,
            "grid_template_rows": null,
            "height": null,
            "justify_content": null,
            "justify_items": null,
            "left": null,
            "margin": null,
            "max_height": null,
            "max_width": null,
            "min_height": null,
            "min_width": null,
            "object_fit": null,
            "object_position": null,
            "order": null,
            "overflow": null,
            "overflow_x": null,
            "overflow_y": null,
            "padding": null,
            "right": null,
            "top": null,
            "visibility": null,
            "width": null
          }
        },
        "b1d67e0621ef4c0db3b5fb193e40b7b4": {
          "model_module": "@jupyter-widgets/base",
          "model_name": "LayoutModel",
          "model_module_version": "1.2.0",
          "state": {
            "_model_module": "@jupyter-widgets/base",
            "_model_module_version": "1.2.0",
            "_model_name": "LayoutModel",
            "_view_count": null,
            "_view_module": "@jupyter-widgets/base",
            "_view_module_version": "1.2.0",
            "_view_name": "LayoutView",
            "align_content": null,
            "align_items": null,
            "align_self": null,
            "border": null,
            "bottom": null,
            "display": null,
            "flex": null,
            "flex_flow": null,
            "grid_area": null,
            "grid_auto_columns": null,
            "grid_auto_flow": null,
            "grid_auto_rows": null,
            "grid_column": null,
            "grid_gap": null,
            "grid_row": null,
            "grid_template_areas": null,
            "grid_template_columns": null,
            "grid_template_rows": null,
            "height": null,
            "justify_content": null,
            "justify_items": null,
            "left": null,
            "margin": null,
            "max_height": null,
            "max_width": null,
            "min_height": null,
            "min_width": null,
            "object_fit": null,
            "object_position": null,
            "order": null,
            "overflow": null,
            "overflow_x": null,
            "overflow_y": null,
            "padding": null,
            "right": null,
            "top": null,
            "visibility": null,
            "width": null
          }
        },
        "aa3773ef55ee4cbc91fe46229d1686aa": {
          "model_module": "@jupyter-widgets/controls",
          "model_name": "DescriptionStyleModel",
          "model_module_version": "1.5.0",
          "state": {
            "_model_module": "@jupyter-widgets/controls",
            "_model_module_version": "1.5.0",
            "_model_name": "DescriptionStyleModel",
            "_view_count": null,
            "_view_module": "@jupyter-widgets/base",
            "_view_module_version": "1.2.0",
            "_view_name": "StyleView",
            "description_width": ""
          }
        },
        "c79fd7f0da154480b0700eb312f6179e": {
          "model_module": "@jupyter-widgets/base",
          "model_name": "LayoutModel",
          "model_module_version": "1.2.0",
          "state": {
            "_model_module": "@jupyter-widgets/base",
            "_model_module_version": "1.2.0",
            "_model_name": "LayoutModel",
            "_view_count": null,
            "_view_module": "@jupyter-widgets/base",
            "_view_module_version": "1.2.0",
            "_view_name": "LayoutView",
            "align_content": null,
            "align_items": null,
            "align_self": null,
            "border": null,
            "bottom": null,
            "display": null,
            "flex": null,
            "flex_flow": null,
            "grid_area": null,
            "grid_auto_columns": null,
            "grid_auto_flow": null,
            "grid_auto_rows": null,
            "grid_column": null,
            "grid_gap": null,
            "grid_row": null,
            "grid_template_areas": null,
            "grid_template_columns": null,
            "grid_template_rows": null,
            "height": null,
            "justify_content": null,
            "justify_items": null,
            "left": null,
            "margin": null,
            "max_height": null,
            "max_width": null,
            "min_height": null,
            "min_width": null,
            "object_fit": null,
            "object_position": null,
            "order": null,
            "overflow": null,
            "overflow_x": null,
            "overflow_y": null,
            "padding": null,
            "right": null,
            "top": null,
            "visibility": null,
            "width": null
          }
        },
        "4bf5f7155eb3475eaeb50e53378624bd": {
          "model_module": "@jupyter-widgets/controls",
          "model_name": "ProgressStyleModel",
          "model_module_version": "1.5.0",
          "state": {
            "_model_module": "@jupyter-widgets/controls",
            "_model_module_version": "1.5.0",
            "_model_name": "ProgressStyleModel",
            "_view_count": null,
            "_view_module": "@jupyter-widgets/base",
            "_view_module_version": "1.2.0",
            "_view_name": "StyleView",
            "bar_color": null,
            "description_width": ""
          }
        },
        "1ca0aec7215440f38f4cf765885f7567": {
          "model_module": "@jupyter-widgets/base",
          "model_name": "LayoutModel",
          "model_module_version": "1.2.0",
          "state": {
            "_model_module": "@jupyter-widgets/base",
            "_model_module_version": "1.2.0",
            "_model_name": "LayoutModel",
            "_view_count": null,
            "_view_module": "@jupyter-widgets/base",
            "_view_module_version": "1.2.0",
            "_view_name": "LayoutView",
            "align_content": null,
            "align_items": null,
            "align_self": null,
            "border": null,
            "bottom": null,
            "display": null,
            "flex": null,
            "flex_flow": null,
            "grid_area": null,
            "grid_auto_columns": null,
            "grid_auto_flow": null,
            "grid_auto_rows": null,
            "grid_column": null,
            "grid_gap": null,
            "grid_row": null,
            "grid_template_areas": null,
            "grid_template_columns": null,
            "grid_template_rows": null,
            "height": null,
            "justify_content": null,
            "justify_items": null,
            "left": null,
            "margin": null,
            "max_height": null,
            "max_width": null,
            "min_height": null,
            "min_width": null,
            "object_fit": null,
            "object_position": null,
            "order": null,
            "overflow": null,
            "overflow_x": null,
            "overflow_y": null,
            "padding": null,
            "right": null,
            "top": null,
            "visibility": null,
            "width": null
          }
        },
        "c5ab13548203470cb1ceac545f93b7cb": {
          "model_module": "@jupyter-widgets/controls",
          "model_name": "DescriptionStyleModel",
          "model_module_version": "1.5.0",
          "state": {
            "_model_module": "@jupyter-widgets/controls",
            "_model_module_version": "1.5.0",
            "_model_name": "DescriptionStyleModel",
            "_view_count": null,
            "_view_module": "@jupyter-widgets/base",
            "_view_module_version": "1.2.0",
            "_view_name": "StyleView",
            "description_width": ""
          }
        },
        "ac7caa48fafa492088e0685f94f2fc4a": {
          "model_module": "@jupyter-widgets/controls",
          "model_name": "HBoxModel",
          "model_module_version": "1.5.0",
          "state": {
            "_dom_classes": [],
            "_model_module": "@jupyter-widgets/controls",
            "_model_module_version": "1.5.0",
            "_model_name": "HBoxModel",
            "_view_count": null,
            "_view_module": "@jupyter-widgets/controls",
            "_view_module_version": "1.5.0",
            "_view_name": "HBoxView",
            "box_style": "",
            "children": [
              "IPY_MODEL_4452308f199b461e9bbcd3d97df026df",
              "IPY_MODEL_5148e343155c41e2b190d90d0b7e867d",
              "IPY_MODEL_4fd77647a4924eb9b45e4758d84e190b"
            ],
            "layout": "IPY_MODEL_eb400cca10fe442b84b9753378382f92"
          }
        },
        "4452308f199b461e9bbcd3d97df026df": {
          "model_module": "@jupyter-widgets/controls",
          "model_name": "HTMLModel",
          "model_module_version": "1.5.0",
          "state": {
            "_dom_classes": [],
            "_model_module": "@jupyter-widgets/controls",
            "_model_module_version": "1.5.0",
            "_model_name": "HTMLModel",
            "_view_count": null,
            "_view_module": "@jupyter-widgets/controls",
            "_view_module_version": "1.5.0",
            "_view_name": "HTMLView",
            "description": "",
            "description_tooltip": null,
            "layout": "IPY_MODEL_52bd6d1d973c4752925f3091f323596d",
            "placeholder": "​",
            "style": "IPY_MODEL_fbe503bce6954701a3c6554178445d09",
            "value": "Map: 100%"
          }
        },
        "5148e343155c41e2b190d90d0b7e867d": {
          "model_module": "@jupyter-widgets/controls",
          "model_name": "FloatProgressModel",
          "model_module_version": "1.5.0",
          "state": {
            "_dom_classes": [],
            "_model_module": "@jupyter-widgets/controls",
            "_model_module_version": "1.5.0",
            "_model_name": "FloatProgressModel",
            "_view_count": null,
            "_view_module": "@jupyter-widgets/controls",
            "_view_module_version": "1.5.0",
            "_view_name": "ProgressView",
            "bar_style": "",
            "description": "",
            "description_tooltip": null,
            "layout": "IPY_MODEL_fcc1a4a35ee54073b5cb76ae391e0e82",
            "max": 12361,
            "min": 0,
            "orientation": "horizontal",
            "style": "IPY_MODEL_0f45b792bb6249aeb23e596188ec0c00",
            "value": 12361
          }
        },
        "4fd77647a4924eb9b45e4758d84e190b": {
          "model_module": "@jupyter-widgets/controls",
          "model_name": "HTMLModel",
          "model_module_version": "1.5.0",
          "state": {
            "_dom_classes": [],
            "_model_module": "@jupyter-widgets/controls",
            "_model_module_version": "1.5.0",
            "_model_name": "HTMLModel",
            "_view_count": null,
            "_view_module": "@jupyter-widgets/controls",
            "_view_module_version": "1.5.0",
            "_view_name": "HTMLView",
            "description": "",
            "description_tooltip": null,
            "layout": "IPY_MODEL_b1637730ceef46408c48edb8eea0f83e",
            "placeholder": "​",
            "style": "IPY_MODEL_a11f67421da84b8ca862b1a34b255b3d",
            "value": " 12361/12361 [00:03&lt;00:00, 3406.27 examples/s]"
          }
        },
        "eb400cca10fe442b84b9753378382f92": {
          "model_module": "@jupyter-widgets/base",
          "model_name": "LayoutModel",
          "model_module_version": "1.2.0",
          "state": {
            "_model_module": "@jupyter-widgets/base",
            "_model_module_version": "1.2.0",
            "_model_name": "LayoutModel",
            "_view_count": null,
            "_view_module": "@jupyter-widgets/base",
            "_view_module_version": "1.2.0",
            "_view_name": "LayoutView",
            "align_content": null,
            "align_items": null,
            "align_self": null,
            "border": null,
            "bottom": null,
            "display": null,
            "flex": null,
            "flex_flow": null,
            "grid_area": null,
            "grid_auto_columns": null,
            "grid_auto_flow": null,
            "grid_auto_rows": null,
            "grid_column": null,
            "grid_gap": null,
            "grid_row": null,
            "grid_template_areas": null,
            "grid_template_columns": null,
            "grid_template_rows": null,
            "height": null,
            "justify_content": null,
            "justify_items": null,
            "left": null,
            "margin": null,
            "max_height": null,
            "max_width": null,
            "min_height": null,
            "min_width": null,
            "object_fit": null,
            "object_position": null,
            "order": null,
            "overflow": null,
            "overflow_x": null,
            "overflow_y": null,
            "padding": null,
            "right": null,
            "top": null,
            "visibility": "hidden",
            "width": null
          }
        },
        "52bd6d1d973c4752925f3091f323596d": {
          "model_module": "@jupyter-widgets/base",
          "model_name": "LayoutModel",
          "model_module_version": "1.2.0",
          "state": {
            "_model_module": "@jupyter-widgets/base",
            "_model_module_version": "1.2.0",
            "_model_name": "LayoutModel",
            "_view_count": null,
            "_view_module": "@jupyter-widgets/base",
            "_view_module_version": "1.2.0",
            "_view_name": "LayoutView",
            "align_content": null,
            "align_items": null,
            "align_self": null,
            "border": null,
            "bottom": null,
            "display": null,
            "flex": null,
            "flex_flow": null,
            "grid_area": null,
            "grid_auto_columns": null,
            "grid_auto_flow": null,
            "grid_auto_rows": null,
            "grid_column": null,
            "grid_gap": null,
            "grid_row": null,
            "grid_template_areas": null,
            "grid_template_columns": null,
            "grid_template_rows": null,
            "height": null,
            "justify_content": null,
            "justify_items": null,
            "left": null,
            "margin": null,
            "max_height": null,
            "max_width": null,
            "min_height": null,
            "min_width": null,
            "object_fit": null,
            "object_position": null,
            "order": null,
            "overflow": null,
            "overflow_x": null,
            "overflow_y": null,
            "padding": null,
            "right": null,
            "top": null,
            "visibility": null,
            "width": null
          }
        },
        "fbe503bce6954701a3c6554178445d09": {
          "model_module": "@jupyter-widgets/controls",
          "model_name": "DescriptionStyleModel",
          "model_module_version": "1.5.0",
          "state": {
            "_model_module": "@jupyter-widgets/controls",
            "_model_module_version": "1.5.0",
            "_model_name": "DescriptionStyleModel",
            "_view_count": null,
            "_view_module": "@jupyter-widgets/base",
            "_view_module_version": "1.2.0",
            "_view_name": "StyleView",
            "description_width": ""
          }
        },
        "fcc1a4a35ee54073b5cb76ae391e0e82": {
          "model_module": "@jupyter-widgets/base",
          "model_name": "LayoutModel",
          "model_module_version": "1.2.0",
          "state": {
            "_model_module": "@jupyter-widgets/base",
            "_model_module_version": "1.2.0",
            "_model_name": "LayoutModel",
            "_view_count": null,
            "_view_module": "@jupyter-widgets/base",
            "_view_module_version": "1.2.0",
            "_view_name": "LayoutView",
            "align_content": null,
            "align_items": null,
            "align_self": null,
            "border": null,
            "bottom": null,
            "display": null,
            "flex": null,
            "flex_flow": null,
            "grid_area": null,
            "grid_auto_columns": null,
            "grid_auto_flow": null,
            "grid_auto_rows": null,
            "grid_column": null,
            "grid_gap": null,
            "grid_row": null,
            "grid_template_areas": null,
            "grid_template_columns": null,
            "grid_template_rows": null,
            "height": null,
            "justify_content": null,
            "justify_items": null,
            "left": null,
            "margin": null,
            "max_height": null,
            "max_width": null,
            "min_height": null,
            "min_width": null,
            "object_fit": null,
            "object_position": null,
            "order": null,
            "overflow": null,
            "overflow_x": null,
            "overflow_y": null,
            "padding": null,
            "right": null,
            "top": null,
            "visibility": null,
            "width": null
          }
        },
        "0f45b792bb6249aeb23e596188ec0c00": {
          "model_module": "@jupyter-widgets/controls",
          "model_name": "ProgressStyleModel",
          "model_module_version": "1.5.0",
          "state": {
            "_model_module": "@jupyter-widgets/controls",
            "_model_module_version": "1.5.0",
            "_model_name": "ProgressStyleModel",
            "_view_count": null,
            "_view_module": "@jupyter-widgets/base",
            "_view_module_version": "1.2.0",
            "_view_name": "StyleView",
            "bar_color": null,
            "description_width": ""
          }
        },
        "b1637730ceef46408c48edb8eea0f83e": {
          "model_module": "@jupyter-widgets/base",
          "model_name": "LayoutModel",
          "model_module_version": "1.2.0",
          "state": {
            "_model_module": "@jupyter-widgets/base",
            "_model_module_version": "1.2.0",
            "_model_name": "LayoutModel",
            "_view_count": null,
            "_view_module": "@jupyter-widgets/base",
            "_view_module_version": "1.2.0",
            "_view_name": "LayoutView",
            "align_content": null,
            "align_items": null,
            "align_self": null,
            "border": null,
            "bottom": null,
            "display": null,
            "flex": null,
            "flex_flow": null,
            "grid_area": null,
            "grid_auto_columns": null,
            "grid_auto_flow": null,
            "grid_auto_rows": null,
            "grid_column": null,
            "grid_gap": null,
            "grid_row": null,
            "grid_template_areas": null,
            "grid_template_columns": null,
            "grid_template_rows": null,
            "height": null,
            "justify_content": null,
            "justify_items": null,
            "left": null,
            "margin": null,
            "max_height": null,
            "max_width": null,
            "min_height": null,
            "min_width": null,
            "object_fit": null,
            "object_position": null,
            "order": null,
            "overflow": null,
            "overflow_x": null,
            "overflow_y": null,
            "padding": null,
            "right": null,
            "top": null,
            "visibility": null,
            "width": null
          }
        },
        "a11f67421da84b8ca862b1a34b255b3d": {
          "model_module": "@jupyter-widgets/controls",
          "model_name": "DescriptionStyleModel",
          "model_module_version": "1.5.0",
          "state": {
            "_model_module": "@jupyter-widgets/controls",
            "_model_module_version": "1.5.0",
            "_model_name": "DescriptionStyleModel",
            "_view_count": null,
            "_view_module": "@jupyter-widgets/base",
            "_view_module_version": "1.2.0",
            "_view_name": "StyleView",
            "description_width": ""
          }
        },
        "94288377428c4caa9daec33a415fecf5": {
          "model_module": "@jupyter-widgets/controls",
          "model_name": "HBoxModel",
          "model_module_version": "1.5.0",
          "state": {
            "_dom_classes": [],
            "_model_module": "@jupyter-widgets/controls",
            "_model_module_version": "1.5.0",
            "_model_name": "HBoxModel",
            "_view_count": null,
            "_view_module": "@jupyter-widgets/controls",
            "_view_module_version": "1.5.0",
            "_view_name": "HBoxView",
            "box_style": "",
            "children": [
              "IPY_MODEL_69aec20365b84318a60b42a3a312c5f3",
              "IPY_MODEL_fa23242709f44d7089b626ded4b4dfc2",
              "IPY_MODEL_990c7edb48bc4091bfbdba7a7276f70e"
            ],
            "layout": "IPY_MODEL_d660b5a0eaf048e3ba1fe7f8e9ae1183"
          }
        },
        "69aec20365b84318a60b42a3a312c5f3": {
          "model_module": "@jupyter-widgets/controls",
          "model_name": "HTMLModel",
          "model_module_version": "1.5.0",
          "state": {
            "_dom_classes": [],
            "_model_module": "@jupyter-widgets/controls",
            "_model_module_version": "1.5.0",
            "_model_name": "HTMLModel",
            "_view_count": null,
            "_view_module": "@jupyter-widgets/controls",
            "_view_module_version": "1.5.0",
            "_view_name": "HTMLView",
            "description": "",
            "description_tooltip": null,
            "layout": "IPY_MODEL_3f831653fc514033a3284bd055ba440f",
            "placeholder": "​",
            "style": "IPY_MODEL_51752d02041d49329fc91903bcd18c24",
            "value": "Map: 100%"
          }
        },
        "fa23242709f44d7089b626ded4b4dfc2": {
          "model_module": "@jupyter-widgets/controls",
          "model_name": "FloatProgressModel",
          "model_module_version": "1.5.0",
          "state": {
            "_dom_classes": [],
            "_model_module": "@jupyter-widgets/controls",
            "_model_module_version": "1.5.0",
            "_model_name": "FloatProgressModel",
            "_view_count": null,
            "_view_module": "@jupyter-widgets/controls",
            "_view_module_version": "1.5.0",
            "_view_name": "ProgressView",
            "bar_style": "",
            "description": "",
            "description_tooltip": null,
            "layout": "IPY_MODEL_d37d384c38a349f38626a240871f00a8",
            "max": 3091,
            "min": 0,
            "orientation": "horizontal",
            "style": "IPY_MODEL_a05732bd23464e78b6e5a975419f7477",
            "value": 3091
          }
        },
        "990c7edb48bc4091bfbdba7a7276f70e": {
          "model_module": "@jupyter-widgets/controls",
          "model_name": "HTMLModel",
          "model_module_version": "1.5.0",
          "state": {
            "_dom_classes": [],
            "_model_module": "@jupyter-widgets/controls",
            "_model_module_version": "1.5.0",
            "_model_name": "HTMLModel",
            "_view_count": null,
            "_view_module": "@jupyter-widgets/controls",
            "_view_module_version": "1.5.0",
            "_view_name": "HTMLView",
            "description": "",
            "description_tooltip": null,
            "layout": "IPY_MODEL_236258744fc94f4f8cc7d23693e73323",
            "placeholder": "​",
            "style": "IPY_MODEL_2f33731f24f4446d8ab2b557d6045d57",
            "value": " 3078/3091 [00:01&lt;00:00, 2056.71 examples/s]"
          }
        },
        "d660b5a0eaf048e3ba1fe7f8e9ae1183": {
          "model_module": "@jupyter-widgets/base",
          "model_name": "LayoutModel",
          "model_module_version": "1.2.0",
          "state": {
            "_model_module": "@jupyter-widgets/base",
            "_model_module_version": "1.2.0",
            "_model_name": "LayoutModel",
            "_view_count": null,
            "_view_module": "@jupyter-widgets/base",
            "_view_module_version": "1.2.0",
            "_view_name": "LayoutView",
            "align_content": null,
            "align_items": null,
            "align_self": null,
            "border": null,
            "bottom": null,
            "display": null,
            "flex": null,
            "flex_flow": null,
            "grid_area": null,
            "grid_auto_columns": null,
            "grid_auto_flow": null,
            "grid_auto_rows": null,
            "grid_column": null,
            "grid_gap": null,
            "grid_row": null,
            "grid_template_areas": null,
            "grid_template_columns": null,
            "grid_template_rows": null,
            "height": null,
            "justify_content": null,
            "justify_items": null,
            "left": null,
            "margin": null,
            "max_height": null,
            "max_width": null,
            "min_height": null,
            "min_width": null,
            "object_fit": null,
            "object_position": null,
            "order": null,
            "overflow": null,
            "overflow_x": null,
            "overflow_y": null,
            "padding": null,
            "right": null,
            "top": null,
            "visibility": "hidden",
            "width": null
          }
        },
        "3f831653fc514033a3284bd055ba440f": {
          "model_module": "@jupyter-widgets/base",
          "model_name": "LayoutModel",
          "model_module_version": "1.2.0",
          "state": {
            "_model_module": "@jupyter-widgets/base",
            "_model_module_version": "1.2.0",
            "_model_name": "LayoutModel",
            "_view_count": null,
            "_view_module": "@jupyter-widgets/base",
            "_view_module_version": "1.2.0",
            "_view_name": "LayoutView",
            "align_content": null,
            "align_items": null,
            "align_self": null,
            "border": null,
            "bottom": null,
            "display": null,
            "flex": null,
            "flex_flow": null,
            "grid_area": null,
            "grid_auto_columns": null,
            "grid_auto_flow": null,
            "grid_auto_rows": null,
            "grid_column": null,
            "grid_gap": null,
            "grid_row": null,
            "grid_template_areas": null,
            "grid_template_columns": null,
            "grid_template_rows": null,
            "height": null,
            "justify_content": null,
            "justify_items": null,
            "left": null,
            "margin": null,
            "max_height": null,
            "max_width": null,
            "min_height": null,
            "min_width": null,
            "object_fit": null,
            "object_position": null,
            "order": null,
            "overflow": null,
            "overflow_x": null,
            "overflow_y": null,
            "padding": null,
            "right": null,
            "top": null,
            "visibility": null,
            "width": null
          }
        },
        "51752d02041d49329fc91903bcd18c24": {
          "model_module": "@jupyter-widgets/controls",
          "model_name": "DescriptionStyleModel",
          "model_module_version": "1.5.0",
          "state": {
            "_model_module": "@jupyter-widgets/controls",
            "_model_module_version": "1.5.0",
            "_model_name": "DescriptionStyleModel",
            "_view_count": null,
            "_view_module": "@jupyter-widgets/base",
            "_view_module_version": "1.2.0",
            "_view_name": "StyleView",
            "description_width": ""
          }
        },
        "d37d384c38a349f38626a240871f00a8": {
          "model_module": "@jupyter-widgets/base",
          "model_name": "LayoutModel",
          "model_module_version": "1.2.0",
          "state": {
            "_model_module": "@jupyter-widgets/base",
            "_model_module_version": "1.2.0",
            "_model_name": "LayoutModel",
            "_view_count": null,
            "_view_module": "@jupyter-widgets/base",
            "_view_module_version": "1.2.0",
            "_view_name": "LayoutView",
            "align_content": null,
            "align_items": null,
            "align_self": null,
            "border": null,
            "bottom": null,
            "display": null,
            "flex": null,
            "flex_flow": null,
            "grid_area": null,
            "grid_auto_columns": null,
            "grid_auto_flow": null,
            "grid_auto_rows": null,
            "grid_column": null,
            "grid_gap": null,
            "grid_row": null,
            "grid_template_areas": null,
            "grid_template_columns": null,
            "grid_template_rows": null,
            "height": null,
            "justify_content": null,
            "justify_items": null,
            "left": null,
            "margin": null,
            "max_height": null,
            "max_width": null,
            "min_height": null,
            "min_width": null,
            "object_fit": null,
            "object_position": null,
            "order": null,
            "overflow": null,
            "overflow_x": null,
            "overflow_y": null,
            "padding": null,
            "right": null,
            "top": null,
            "visibility": null,
            "width": null
          }
        },
        "a05732bd23464e78b6e5a975419f7477": {
          "model_module": "@jupyter-widgets/controls",
          "model_name": "ProgressStyleModel",
          "model_module_version": "1.5.0",
          "state": {
            "_model_module": "@jupyter-widgets/controls",
            "_model_module_version": "1.5.0",
            "_model_name": "ProgressStyleModel",
            "_view_count": null,
            "_view_module": "@jupyter-widgets/base",
            "_view_module_version": "1.2.0",
            "_view_name": "StyleView",
            "bar_color": null,
            "description_width": ""
          }
        },
        "236258744fc94f4f8cc7d23693e73323": {
          "model_module": "@jupyter-widgets/base",
          "model_name": "LayoutModel",
          "model_module_version": "1.2.0",
          "state": {
            "_model_module": "@jupyter-widgets/base",
            "_model_module_version": "1.2.0",
            "_model_name": "LayoutModel",
            "_view_count": null,
            "_view_module": "@jupyter-widgets/base",
            "_view_module_version": "1.2.0",
            "_view_name": "LayoutView",
            "align_content": null,
            "align_items": null,
            "align_self": null,
            "border": null,
            "bottom": null,
            "display": null,
            "flex": null,
            "flex_flow": null,
            "grid_area": null,
            "grid_auto_columns": null,
            "grid_auto_flow": null,
            "grid_auto_rows": null,
            "grid_column": null,
            "grid_gap": null,
            "grid_row": null,
            "grid_template_areas": null,
            "grid_template_columns": null,
            "grid_template_rows": null,
            "height": null,
            "justify_content": null,
            "justify_items": null,
            "left": null,
            "margin": null,
            "max_height": null,
            "max_width": null,
            "min_height": null,
            "min_width": null,
            "object_fit": null,
            "object_position": null,
            "order": null,
            "overflow": null,
            "overflow_x": null,
            "overflow_y": null,
            "padding": null,
            "right": null,
            "top": null,
            "visibility": null,
            "width": null
          }
        },
        "2f33731f24f4446d8ab2b557d6045d57": {
          "model_module": "@jupyter-widgets/controls",
          "model_name": "DescriptionStyleModel",
          "model_module_version": "1.5.0",
          "state": {
            "_model_module": "@jupyter-widgets/controls",
            "_model_module_version": "1.5.0",
            "_model_name": "DescriptionStyleModel",
            "_view_count": null,
            "_view_module": "@jupyter-widgets/base",
            "_view_module_version": "1.2.0",
            "_view_name": "StyleView",
            "description_width": ""
          }
        }
      }
    }
  },
  "nbformat_minor": 0,
  "nbformat": 4,
  "cells": [
    {
      "cell_type": "code",
      "source": [
        "from google.colab import drive\n",
        "drive.mount('/content/drive')"
      ],
      "metadata": {
        "id": "LdUF0bFB_o2v",
        "colab": {
          "base_uri": "https://localhost:8080/"
        },
        "outputId": "89631ecc-1e38-475b-997f-70ec59d78516"
      },
      "execution_count": 1,
      "outputs": [
        {
          "output_type": "stream",
          "name": "stdout",
          "text": [
            "Mounted at /content/drive\n"
          ]
        }
      ]
    },
    {
      "cell_type": "code",
      "source": [
        "!pip install transformers"
      ],
      "metadata": {
        "id": "PLAjsF_j6r4M",
        "execution": {
          "iopub.status.busy": "2023-05-27T05:41:07.831763Z",
          "iopub.execute_input": "2023-05-27T05:41:07.834215Z",
          "iopub.status.idle": "2023-05-27T05:41:21.056567Z",
          "shell.execute_reply.started": "2023-05-27T05:41:07.834176Z",
          "shell.execute_reply": "2023-05-27T05:41:21.055434Z"
        },
        "trusted": true,
        "colab": {
          "base_uri": "https://localhost:8080/"
        },
        "outputId": "ff4df0bc-cf7a-4252-f2e2-4df98f89c12c"
      },
      "execution_count": 2,
      "outputs": [
        {
          "output_type": "stream",
          "name": "stdout",
          "text": [
            "Collecting transformers\n",
            "  Downloading transformers-4.30.2-py3-none-any.whl (7.2 MB)\n",
            "\u001b[2K     \u001b[90m━━━━━━━━━━━━━━━━━━━━━━━━━━━━━━━━━━━━━━━━\u001b[0m \u001b[32m7.2/7.2 MB\u001b[0m \u001b[31m62.5 MB/s\u001b[0m eta \u001b[36m0:00:00\u001b[0m\n",
            "\u001b[?25hRequirement already satisfied: filelock in /usr/local/lib/python3.10/dist-packages (from transformers) (3.12.2)\n",
            "Collecting huggingface-hub<1.0,>=0.14.1 (from transformers)\n",
            "  Downloading huggingface_hub-0.15.1-py3-none-any.whl (236 kB)\n",
            "\u001b[2K     \u001b[90m━━━━━━━━━━━━━━━━━━━━━━━━━━━━━━━━━━━━━━\u001b[0m \u001b[32m236.8/236.8 kB\u001b[0m \u001b[31m27.6 MB/s\u001b[0m eta \u001b[36m0:00:00\u001b[0m\n",
            "\u001b[?25hRequirement already satisfied: numpy>=1.17 in /usr/local/lib/python3.10/dist-packages (from transformers) (1.22.4)\n",
            "Requirement already satisfied: packaging>=20.0 in /usr/local/lib/python3.10/dist-packages (from transformers) (23.1)\n",
            "Requirement already satisfied: pyyaml>=5.1 in /usr/local/lib/python3.10/dist-packages (from transformers) (6.0)\n",
            "Requirement already satisfied: regex!=2019.12.17 in /usr/local/lib/python3.10/dist-packages (from transformers) (2022.10.31)\n",
            "Requirement already satisfied: requests in /usr/local/lib/python3.10/dist-packages (from transformers) (2.27.1)\n",
            "Collecting tokenizers!=0.11.3,<0.14,>=0.11.1 (from transformers)\n",
            "  Downloading tokenizers-0.13.3-cp310-cp310-manylinux_2_17_x86_64.manylinux2014_x86_64.whl (7.8 MB)\n",
            "\u001b[2K     \u001b[90m━━━━━━━━━━━━━━━━━━━━━━━━━━━━━━━━━━━━━━━━\u001b[0m \u001b[32m7.8/7.8 MB\u001b[0m \u001b[31m114.7 MB/s\u001b[0m eta \u001b[36m0:00:00\u001b[0m\n",
            "\u001b[?25hCollecting safetensors>=0.3.1 (from transformers)\n",
            "  Downloading safetensors-0.3.1-cp310-cp310-manylinux_2_17_x86_64.manylinux2014_x86_64.whl (1.3 MB)\n",
            "\u001b[2K     \u001b[90m━━━━━━━━━━━━━━━━━━━━━━━━━━━━━━━━━━━━━━━━\u001b[0m \u001b[32m1.3/1.3 MB\u001b[0m \u001b[31m78.1 MB/s\u001b[0m eta \u001b[36m0:00:00\u001b[0m\n",
            "\u001b[?25hRequirement already satisfied: tqdm>=4.27 in /usr/local/lib/python3.10/dist-packages (from transformers) (4.65.0)\n",
            "Requirement already satisfied: fsspec in /usr/local/lib/python3.10/dist-packages (from huggingface-hub<1.0,>=0.14.1->transformers) (2023.6.0)\n",
            "Requirement already satisfied: typing-extensions>=3.7.4.3 in /usr/local/lib/python3.10/dist-packages (from huggingface-hub<1.0,>=0.14.1->transformers) (4.6.3)\n",
            "Requirement already satisfied: urllib3<1.27,>=1.21.1 in /usr/local/lib/python3.10/dist-packages (from requests->transformers) (1.26.16)\n",
            "Requirement already satisfied: certifi>=2017.4.17 in /usr/local/lib/python3.10/dist-packages (from requests->transformers) (2023.5.7)\n",
            "Requirement already satisfied: charset-normalizer~=2.0.0 in /usr/local/lib/python3.10/dist-packages (from requests->transformers) (2.0.12)\n",
            "Requirement already satisfied: idna<4,>=2.5 in /usr/local/lib/python3.10/dist-packages (from requests->transformers) (3.4)\n",
            "Installing collected packages: tokenizers, safetensors, huggingface-hub, transformers\n",
            "Successfully installed huggingface-hub-0.15.1 safetensors-0.3.1 tokenizers-0.13.3 transformers-4.30.2\n"
          ]
        }
      ]
    },
    {
      "cell_type": "code",
      "source": [
        "!pip install datasets"
      ],
      "metadata": {
        "id": "qnD6DnCU6yED",
        "execution": {
          "iopub.status.busy": "2023-05-27T05:41:21.059081Z",
          "iopub.execute_input": "2023-05-27T05:41:21.059445Z",
          "iopub.status.idle": "2023-05-27T05:41:31.794594Z",
          "shell.execute_reply.started": "2023-05-27T05:41:21.059409Z",
          "shell.execute_reply": "2023-05-27T05:41:31.793484Z"
        },
        "trusted": true,
        "colab": {
          "base_uri": "https://localhost:8080/"
        },
        "outputId": "1a5a9674-bee1-439f-fa23-3d253027a150"
      },
      "execution_count": 3,
      "outputs": [
        {
          "output_type": "stream",
          "name": "stdout",
          "text": [
            "Collecting datasets\n",
            "  Downloading datasets-2.13.1-py3-none-any.whl (486 kB)\n",
            "\u001b[2K     \u001b[90m━━━━━━━━━━━━━━━━━━━━━━━━━━━━━━━━━━━━━━\u001b[0m \u001b[32m486.2/486.2 kB\u001b[0m \u001b[31m26.3 MB/s\u001b[0m eta \u001b[36m0:00:00\u001b[0m\n",
            "\u001b[?25hRequirement already satisfied: numpy>=1.17 in /usr/local/lib/python3.10/dist-packages (from datasets) (1.22.4)\n",
            "Requirement already satisfied: pyarrow>=8.0.0 in /usr/local/lib/python3.10/dist-packages (from datasets) (9.0.0)\n",
            "Collecting dill<0.3.7,>=0.3.0 (from datasets)\n",
            "  Downloading dill-0.3.6-py3-none-any.whl (110 kB)\n",
            "\u001b[2K     \u001b[90m━━━━━━━━━━━━━━━━━━━━━━━━━━━━━━━━━━━━━━\u001b[0m \u001b[32m110.5/110.5 kB\u001b[0m \u001b[31m13.6 MB/s\u001b[0m eta \u001b[36m0:00:00\u001b[0m\n",
            "\u001b[?25hRequirement already satisfied: pandas in /usr/local/lib/python3.10/dist-packages (from datasets) (1.5.3)\n",
            "Requirement already satisfied: requests>=2.19.0 in /usr/local/lib/python3.10/dist-packages (from datasets) (2.27.1)\n",
            "Requirement already satisfied: tqdm>=4.62.1 in /usr/local/lib/python3.10/dist-packages (from datasets) (4.65.0)\n",
            "Collecting xxhash (from datasets)\n",
            "  Downloading xxhash-3.2.0-cp310-cp310-manylinux_2_17_x86_64.manylinux2014_x86_64.whl (212 kB)\n",
            "\u001b[2K     \u001b[90m━━━━━━━━━━━━━━━━━━━━━━━━━━━━━━━━━━━━━━\u001b[0m \u001b[32m212.5/212.5 kB\u001b[0m \u001b[31m21.7 MB/s\u001b[0m eta \u001b[36m0:00:00\u001b[0m\n",
            "\u001b[?25hCollecting multiprocess (from datasets)\n",
            "  Downloading multiprocess-0.70.14-py310-none-any.whl (134 kB)\n",
            "\u001b[2K     \u001b[90m━━━━━━━━━━━━━━━━━━━━━━━━━━━━━━━━━━━━━━\u001b[0m \u001b[32m134.3/134.3 kB\u001b[0m \u001b[31m16.3 MB/s\u001b[0m eta \u001b[36m0:00:00\u001b[0m\n",
            "\u001b[?25hRequirement already satisfied: fsspec[http]>=2021.11.1 in /usr/local/lib/python3.10/dist-packages (from datasets) (2023.6.0)\n",
            "Requirement already satisfied: aiohttp in /usr/local/lib/python3.10/dist-packages (from datasets) (3.8.4)\n",
            "Requirement already satisfied: huggingface-hub<1.0.0,>=0.11.0 in /usr/local/lib/python3.10/dist-packages (from datasets) (0.15.1)\n",
            "Requirement already satisfied: packaging in /usr/local/lib/python3.10/dist-packages (from datasets) (23.1)\n",
            "Requirement already satisfied: pyyaml>=5.1 in /usr/local/lib/python3.10/dist-packages (from datasets) (6.0)\n",
            "Requirement already satisfied: attrs>=17.3.0 in /usr/local/lib/python3.10/dist-packages (from aiohttp->datasets) (23.1.0)\n",
            "Requirement already satisfied: charset-normalizer<4.0,>=2.0 in /usr/local/lib/python3.10/dist-packages (from aiohttp->datasets) (2.0.12)\n",
            "Requirement already satisfied: multidict<7.0,>=4.5 in /usr/local/lib/python3.10/dist-packages (from aiohttp->datasets) (6.0.4)\n",
            "Requirement already satisfied: async-timeout<5.0,>=4.0.0a3 in /usr/local/lib/python3.10/dist-packages (from aiohttp->datasets) (4.0.2)\n",
            "Requirement already satisfied: yarl<2.0,>=1.0 in /usr/local/lib/python3.10/dist-packages (from aiohttp->datasets) (1.9.2)\n",
            "Requirement already satisfied: frozenlist>=1.1.1 in /usr/local/lib/python3.10/dist-packages (from aiohttp->datasets) (1.3.3)\n",
            "Requirement already satisfied: aiosignal>=1.1.2 in /usr/local/lib/python3.10/dist-packages (from aiohttp->datasets) (1.3.1)\n",
            "Requirement already satisfied: filelock in /usr/local/lib/python3.10/dist-packages (from huggingface-hub<1.0.0,>=0.11.0->datasets) (3.12.2)\n",
            "Requirement already satisfied: typing-extensions>=3.7.4.3 in /usr/local/lib/python3.10/dist-packages (from huggingface-hub<1.0.0,>=0.11.0->datasets) (4.6.3)\n",
            "Requirement already satisfied: urllib3<1.27,>=1.21.1 in /usr/local/lib/python3.10/dist-packages (from requests>=2.19.0->datasets) (1.26.16)\n",
            "Requirement already satisfied: certifi>=2017.4.17 in /usr/local/lib/python3.10/dist-packages (from requests>=2.19.0->datasets) (2023.5.7)\n",
            "Requirement already satisfied: idna<4,>=2.5 in /usr/local/lib/python3.10/dist-packages (from requests>=2.19.0->datasets) (3.4)\n",
            "Requirement already satisfied: python-dateutil>=2.8.1 in /usr/local/lib/python3.10/dist-packages (from pandas->datasets) (2.8.2)\n",
            "Requirement already satisfied: pytz>=2020.1 in /usr/local/lib/python3.10/dist-packages (from pandas->datasets) (2022.7.1)\n",
            "Requirement already satisfied: six>=1.5 in /usr/local/lib/python3.10/dist-packages (from python-dateutil>=2.8.1->pandas->datasets) (1.16.0)\n",
            "Installing collected packages: xxhash, dill, multiprocess, datasets\n",
            "Successfully installed datasets-2.13.1 dill-0.3.6 multiprocess-0.70.14 xxhash-3.2.0\n"
          ]
        }
      ]
    },
    {
      "cell_type": "code",
      "source": [
        "#imports\n",
        "import pandas as pd\n",
        "import functools\n",
        "import sys\n",
        "\n",
        "import datasets\n",
        "import matplotlib.pyplot as plt\n",
        "import numpy as np\n",
        "import torch\n",
        "import torch.nn as nn\n",
        "import torch.optim as optim\n",
        "import torchtext\n",
        "import tqdm\n",
        "import transformers\n",
        "from datasets import Dataset\n",
        "import re"
      ],
      "metadata": {
        "id": "0pVDzeDi6ykK",
        "execution": {
          "iopub.status.busy": "2023-05-27T16:59:25.851224Z",
          "iopub.execute_input": "2023-05-27T16:59:25.852058Z",
          "iopub.status.idle": "2023-05-27T16:59:32.575842Z",
          "shell.execute_reply.started": "2023-05-27T16:59:25.852023Z",
          "shell.execute_reply": "2023-05-27T16:59:32.574926Z"
        },
        "trusted": true
      },
      "execution_count": 4,
      "outputs": []
    },
    {
      "cell_type": "code",
      "source": [
        "#setting seed value for minimizing randomness\n",
        "seed = 0\n",
        "\n",
        "torch.manual_seed(seed)"
      ],
      "metadata": {
        "id": "Mb1xfqKp61JJ",
        "outputId": "5e460156-e3ef-453e-ee3c-b33436f8ce64",
        "execution": {
          "iopub.status.busy": "2023-05-27T16:59:32.577645Z",
          "iopub.execute_input": "2023-05-27T16:59:32.578187Z",
          "iopub.status.idle": "2023-05-27T16:59:32.589435Z",
          "shell.execute_reply.started": "2023-05-27T16:59:32.578161Z",
          "shell.execute_reply": "2023-05-27T16:59:32.588325Z"
        },
        "trusted": true,
        "colab": {
          "base_uri": "https://localhost:8080/"
        }
      },
      "execution_count": 5,
      "outputs": [
        {
          "output_type": "execute_result",
          "data": {
            "text/plain": [
              "<torch._C.Generator at 0x7f2748181170>"
            ]
          },
          "metadata": {},
          "execution_count": 5
        }
      ]
    },
    {
      "cell_type": "code",
      "source": [
        "#using NERT base as the model\n",
        "transformer_name = 'bert-base-uncased'\n",
        "\n",
        "tokenizer = transformers.AutoTokenizer.from_pretrained(transformer_name)"
      ],
      "metadata": {
        "id": "3cVEQONF62yY",
        "outputId": "d414052c-1fea-471f-a805-ff6cdd3108fa",
        "execution": {
          "iopub.status.busy": "2023-05-27T16:59:32.591305Z",
          "iopub.execute_input": "2023-05-27T16:59:32.591701Z",
          "iopub.status.idle": "2023-05-27T16:59:36.981371Z",
          "shell.execute_reply.started": "2023-05-27T16:59:32.591672Z",
          "shell.execute_reply": "2023-05-27T16:59:36.980386Z"
        },
        "trusted": true,
        "colab": {
          "referenced_widgets": [
            "a7a1f513272e443883f3ec0ab19008cd",
            "58c5b46bcf90487fabac768bcb115a7d",
            "b3993cf745a548df8246fc1a99685f88",
            "091c9409ddc24c9f8ea6192a2d895872",
            "6fe3c546ca554fadb37be815eefd6544",
            "7660ab8e11ce4cf2871ffef21df54c5a",
            "be707a1dec1447d9865208caabf4d085",
            "0146b1d694f44dd3862d9d6610a11c1f",
            "d83cf8a16f594aa692bdabdde262cbbb",
            "03ea6dbc969f44c284b11195ab365084",
            "c182b9299e964ab39fccce0700e044cb",
            "d21f9cf918d64d73b3813796b6b37006",
            "80c5a43c91db4e41b3ec395bca862da2",
            "5ef1789471784563a87e96c6ee96e915",
            "a276c4c1ae6c4f2b8b01a993f68ca4ee",
            "53ba9ca3484248938538d1141fbd5e4a",
            "ee88034eaa2a4a16a366fc9f91269f34",
            "eafe378c1ad542acadc7acf7a2a9dd18",
            "eda6f618f36e491bbd03f458517cc626",
            "83a749bbaa4d4f7e816c11c8cef1b8fa",
            "a729edeb60d34381a1218d08c605a5f2",
            "ba7d442e437f421e86e01df492a2c8cc",
            "39224abb1a8c422d8de4b31cbd63ac60",
            "4427c93bcbf64f13a8385d0396c35f23",
            "029e156563b2403e8d6649da5c79b226",
            "c61e7ed3e121465dbc83625d7faf6895",
            "57fe6d560ea643c6be148fd72b8c9d07",
            "9e53c9b42c2c486bae28bed2135b0ae6",
            "f181e2946ac6492ab39132cf99fe9729",
            "c0195cef2fb343a68336a7da60690d74",
            "76cd1f4d6c864d299f53222d6fc3cf2b",
            "41a2f1e7e65048d0be56c1155d881d39",
            "e4c37af685634602bfcb41ec496d7004",
            "f370e2e5266b4ecd92cf24b36b28cbdf",
            "4e8d1839f9a848749c0426537759b427",
            "19e57471e1e046cea2846a8c84402265",
            "80efaccbe6924d529d7eaf46127ffe4c",
            "921fc974b9544cec9ed554f9b2fcb03f",
            "b1d67e0621ef4c0db3b5fb193e40b7b4",
            "aa3773ef55ee4cbc91fe46229d1686aa",
            "c79fd7f0da154480b0700eb312f6179e",
            "4bf5f7155eb3475eaeb50e53378624bd",
            "1ca0aec7215440f38f4cf765885f7567",
            "c5ab13548203470cb1ceac545f93b7cb"
          ],
          "base_uri": "https://localhost:8080/",
          "height": 145
        }
      },
      "execution_count": 6,
      "outputs": [
        {
          "output_type": "display_data",
          "data": {
            "text/plain": [
              "Downloading (…)okenizer_config.json:   0%|          | 0.00/28.0 [00:00<?, ?B/s]"
            ],
            "application/vnd.jupyter.widget-view+json": {
              "version_major": 2,
              "version_minor": 0,
              "model_id": "a7a1f513272e443883f3ec0ab19008cd"
            }
          },
          "metadata": {}
        },
        {
          "output_type": "display_data",
          "data": {
            "text/plain": [
              "Downloading (…)lve/main/config.json:   0%|          | 0.00/570 [00:00<?, ?B/s]"
            ],
            "application/vnd.jupyter.widget-view+json": {
              "version_major": 2,
              "version_minor": 0,
              "model_id": "d21f9cf918d64d73b3813796b6b37006"
            }
          },
          "metadata": {}
        },
        {
          "output_type": "display_data",
          "data": {
            "text/plain": [
              "Downloading (…)solve/main/vocab.txt:   0%|          | 0.00/232k [00:00<?, ?B/s]"
            ],
            "application/vnd.jupyter.widget-view+json": {
              "version_major": 2,
              "version_minor": 0,
              "model_id": "39224abb1a8c422d8de4b31cbd63ac60"
            }
          },
          "metadata": {}
        },
        {
          "output_type": "display_data",
          "data": {
            "text/plain": [
              "Downloading (…)/main/tokenizer.json:   0%|          | 0.00/466k [00:00<?, ?B/s]"
            ],
            "application/vnd.jupyter.widget-view+json": {
              "version_major": 2,
              "version_minor": 0,
              "model_id": "f370e2e5266b4ecd92cf24b36b28cbdf"
            }
          },
          "metadata": {}
        }
      ]
    },
    {
      "cell_type": "code",
      "source": [
        "data = pd.read_csv('/content/drive/MyDrive/Internship_task/training.data/training.data', delimiter = \"\\t\", names = [\"text\"]) #data import"
      ],
      "metadata": {
        "id": "JHPWdK0e7AsU",
        "execution": {
          "iopub.status.busy": "2023-05-27T16:59:36.984015Z",
          "iopub.execute_input": "2023-05-27T16:59:36.984640Z",
          "iopub.status.idle": "2023-05-27T16:59:38.951077Z",
          "shell.execute_reply.started": "2023-05-27T16:59:36.984602Z",
          "shell.execute_reply": "2023-05-27T16:59:38.950138Z"
        },
        "trusted": true
      },
      "execution_count": 102,
      "outputs": []
    },
    {
      "cell_type": "code",
      "source": [
        "data.shape"
      ],
      "metadata": {
        "colab": {
          "base_uri": "https://localhost:8080/"
        },
        "id": "Xgf_fpQvxt6q",
        "outputId": "d75f2c17-29a6-4112-d393-dca685533bcd"
      },
      "execution_count": 103,
      "outputs": [
        {
          "output_type": "execute_result",
          "data": {
            "text/plain": [
              "(15452, 1)"
            ]
          },
          "metadata": {},
          "execution_count": 103
        }
      ]
    },
    {
      "cell_type": "code",
      "source": [
        "data.head()"
      ],
      "metadata": {
        "colab": {
          "base_uri": "https://localhost:8080/",
          "height": 206
        },
        "id": "LqNXu_NrxwZf",
        "outputId": "54949676-69e4-4211-dab1-4c385e603034"
      },
      "execution_count": 104,
      "outputs": [
        {
          "output_type": "execute_result",
          "data": {
            "text/plain": [
              "                                                text\n",
              "0  DESC:manner How did serfdom develop in and the...\n",
              "1  ENTY:cremat What films featured the character ...\n",
              "2  DESC:manner How can I find a list of celebriti...\n",
              "3  ENTY:animal What fowl grabs the spotlight afte...\n",
              "4           ABBR:exp What is the full form of .com ?"
            ],
            "text/html": [
              "\n",
              "  <div id=\"df-7485c806-c355-4f9d-8e8e-323bf8f320eb\">\n",
              "    <div class=\"colab-df-container\">\n",
              "      <div>\n",
              "<style scoped>\n",
              "    .dataframe tbody tr th:only-of-type {\n",
              "        vertical-align: middle;\n",
              "    }\n",
              "\n",
              "    .dataframe tbody tr th {\n",
              "        vertical-align: top;\n",
              "    }\n",
              "\n",
              "    .dataframe thead th {\n",
              "        text-align: right;\n",
              "    }\n",
              "</style>\n",
              "<table border=\"1\" class=\"dataframe\">\n",
              "  <thead>\n",
              "    <tr style=\"text-align: right;\">\n",
              "      <th></th>\n",
              "      <th>text</th>\n",
              "    </tr>\n",
              "  </thead>\n",
              "  <tbody>\n",
              "    <tr>\n",
              "      <th>0</th>\n",
              "      <td>DESC:manner How did serfdom develop in and the...</td>\n",
              "    </tr>\n",
              "    <tr>\n",
              "      <th>1</th>\n",
              "      <td>ENTY:cremat What films featured the character ...</td>\n",
              "    </tr>\n",
              "    <tr>\n",
              "      <th>2</th>\n",
              "      <td>DESC:manner How can I find a list of celebriti...</td>\n",
              "    </tr>\n",
              "    <tr>\n",
              "      <th>3</th>\n",
              "      <td>ENTY:animal What fowl grabs the spotlight afte...</td>\n",
              "    </tr>\n",
              "    <tr>\n",
              "      <th>4</th>\n",
              "      <td>ABBR:exp What is the full form of .com ?</td>\n",
              "    </tr>\n",
              "  </tbody>\n",
              "</table>\n",
              "</div>\n",
              "      <button class=\"colab-df-convert\" onclick=\"convertToInteractive('df-7485c806-c355-4f9d-8e8e-323bf8f320eb')\"\n",
              "              title=\"Convert this dataframe to an interactive table.\"\n",
              "              style=\"display:none;\">\n",
              "        \n",
              "  <svg xmlns=\"http://www.w3.org/2000/svg\" height=\"24px\"viewBox=\"0 0 24 24\"\n",
              "       width=\"24px\">\n",
              "    <path d=\"M0 0h24v24H0V0z\" fill=\"none\"/>\n",
              "    <path d=\"M18.56 5.44l.94 2.06.94-2.06 2.06-.94-2.06-.94-.94-2.06-.94 2.06-2.06.94zm-11 1L8.5 8.5l.94-2.06 2.06-.94-2.06-.94L8.5 2.5l-.94 2.06-2.06.94zm10 10l.94 2.06.94-2.06 2.06-.94-2.06-.94-.94-2.06-.94 2.06-2.06.94z\"/><path d=\"M17.41 7.96l-1.37-1.37c-.4-.4-.92-.59-1.43-.59-.52 0-1.04.2-1.43.59L10.3 9.45l-7.72 7.72c-.78.78-.78 2.05 0 2.83L4 21.41c.39.39.9.59 1.41.59.51 0 1.02-.2 1.41-.59l7.78-7.78 2.81-2.81c.8-.78.8-2.07 0-2.86zM5.41 20L4 18.59l7.72-7.72 1.47 1.35L5.41 20z\"/>\n",
              "  </svg>\n",
              "      </button>\n",
              "      \n",
              "  <style>\n",
              "    .colab-df-container {\n",
              "      display:flex;\n",
              "      flex-wrap:wrap;\n",
              "      gap: 12px;\n",
              "    }\n",
              "\n",
              "    .colab-df-convert {\n",
              "      background-color: #E8F0FE;\n",
              "      border: none;\n",
              "      border-radius: 50%;\n",
              "      cursor: pointer;\n",
              "      display: none;\n",
              "      fill: #1967D2;\n",
              "      height: 32px;\n",
              "      padding: 0 0 0 0;\n",
              "      width: 32px;\n",
              "    }\n",
              "\n",
              "    .colab-df-convert:hover {\n",
              "      background-color: #E2EBFA;\n",
              "      box-shadow: 0px 1px 2px rgba(60, 64, 67, 0.3), 0px 1px 3px 1px rgba(60, 64, 67, 0.15);\n",
              "      fill: #174EA6;\n",
              "    }\n",
              "\n",
              "    [theme=dark] .colab-df-convert {\n",
              "      background-color: #3B4455;\n",
              "      fill: #D2E3FC;\n",
              "    }\n",
              "\n",
              "    [theme=dark] .colab-df-convert:hover {\n",
              "      background-color: #434B5C;\n",
              "      box-shadow: 0px 1px 3px 1px rgba(0, 0, 0, 0.15);\n",
              "      filter: drop-shadow(0px 1px 2px rgba(0, 0, 0, 0.3));\n",
              "      fill: #FFFFFF;\n",
              "    }\n",
              "  </style>\n",
              "\n",
              "      <script>\n",
              "        const buttonEl =\n",
              "          document.querySelector('#df-7485c806-c355-4f9d-8e8e-323bf8f320eb button.colab-df-convert');\n",
              "        buttonEl.style.display =\n",
              "          google.colab.kernel.accessAllowed ? 'block' : 'none';\n",
              "\n",
              "        async function convertToInteractive(key) {\n",
              "          const element = document.querySelector('#df-7485c806-c355-4f9d-8e8e-323bf8f320eb');\n",
              "          const dataTable =\n",
              "            await google.colab.kernel.invokeFunction('convertToInteractive',\n",
              "                                                     [key], {});\n",
              "          if (!dataTable) return;\n",
              "\n",
              "          const docLinkHtml = 'Like what you see? Visit the ' +\n",
              "            '<a target=\"_blank\" href=https://colab.research.google.com/notebooks/data_table.ipynb>data table notebook</a>'\n",
              "            + ' to learn more about interactive tables.';\n",
              "          element.innerHTML = '';\n",
              "          dataTable['output_type'] = 'display_data';\n",
              "          await google.colab.output.renderOutput(dataTable, element);\n",
              "          const docLink = document.createElement('div');\n",
              "          docLink.innerHTML = docLinkHtml;\n",
              "          element.appendChild(docLink);\n",
              "        }\n",
              "      </script>\n",
              "    </div>\n",
              "  </div>\n",
              "  "
            ]
          },
          "metadata": {},
          "execution_count": 104
        }
      ]
    },
    {
      "cell_type": "code",
      "source": [
        "str(data.values[0])#checking the structure of the imprted data"
      ],
      "metadata": {
        "colab": {
          "base_uri": "https://localhost:8080/",
          "height": 35
        },
        "id": "u6CZ8Wrg4OK3",
        "outputId": "003156a2-e459-49e5-985d-f1546d2ebc85"
      },
      "execution_count": 105,
      "outputs": [
        {
          "output_type": "execute_result",
          "data": {
            "text/plain": [
              "\"['DESC:manner How did serfdom develop in and then leave Russia ?']\""
            ],
            "application/vnd.google.colaboratory.intrinsic+json": {
              "type": "string"
            }
          },
          "metadata": {},
          "execution_count": 105
        }
      ]
    },
    {
      "cell_type": "code",
      "source": [
        "data = data.dropna()#dropping NA"
      ],
      "metadata": {
        "id": "laL2bQ0c835k",
        "execution": {
          "iopub.status.busy": "2023-05-27T16:59:38.952457Z",
          "iopub.execute_input": "2023-05-27T16:59:38.952876Z",
          "iopub.status.idle": "2023-05-27T16:59:38.977597Z",
          "shell.execute_reply.started": "2023-05-27T16:59:38.952841Z",
          "shell.execute_reply": "2023-05-27T16:59:38.976705Z"
        },
        "trusted": true
      },
      "execution_count": 106,
      "outputs": []
    },
    {
      "cell_type": "code",
      "source": [
        "#extracting classes / labels from the text in the dataset\n",
        "classes = []\n",
        "pattern = \"[A-Z]*\\:[a-z]*\"\n",
        "\n",
        "for i in range (len(data)):\n",
        "  label = re.findall(pattern, str(data.values[i]))\n",
        "  classes.append(label[0])"
      ],
      "metadata": {
        "id": "f2U2b6bxy7CX"
      },
      "execution_count": 107,
      "outputs": []
    },
    {
      "cell_type": "code",
      "source": [
        "len(classes) #checking if the extracted labes match the number of rows in the main dataset"
      ],
      "metadata": {
        "colab": {
          "base_uri": "https://localhost:8080/"
        },
        "id": "WDg5565L3ELE",
        "outputId": "81b39c35-bc9e-48d8-8f11-a223be43744a"
      },
      "execution_count": 108,
      "outputs": [
        {
          "output_type": "execute_result",
          "data": {
            "text/plain": [
              "15452"
            ]
          },
          "metadata": {},
          "execution_count": 108
        }
      ]
    },
    {
      "cell_type": "code",
      "source": [
        "data['class'] = classes #adding the class column in the main dataset"
      ],
      "metadata": {
        "id": "O91wPbz95Qk6"
      },
      "execution_count": 109,
      "outputs": []
    },
    {
      "cell_type": "code",
      "source": [
        "data['text'] = data['text'].replace(pattern, '', regex=True, limit=1) #removing the class lables form the text"
      ],
      "metadata": {
        "id": "6vXYvvmC50FS"
      },
      "execution_count": 110,
      "outputs": []
    },
    {
      "cell_type": "code",
      "source": [
        "# Remove unnecessary spaces from the first column\n",
        "data['text'] = data['text'].str.strip()"
      ],
      "metadata": {
        "id": "-HnhgWHo6ODh"
      },
      "execution_count": 111,
      "outputs": []
    },
    {
      "cell_type": "code",
      "source": [
        "labels = data['class'].unique() #taking all the vailable classes in the dataset"
      ],
      "metadata": {
        "id": "qocy4rsn84Qg",
        "execution": {
          "iopub.status.busy": "2023-05-27T16:59:38.979064Z",
          "iopub.execute_input": "2023-05-27T16:59:38.979463Z",
          "iopub.status.idle": "2023-05-27T16:59:38.994216Z",
          "shell.execute_reply.started": "2023-05-27T16:59:38.979432Z",
          "shell.execute_reply": "2023-05-27T16:59:38.993134Z"
        },
        "trusted": true
      },
      "execution_count": 112,
      "outputs": []
    },
    {
      "cell_type": "code",
      "source": [
        "#label encoding classes\n",
        "le = LabelEncoder()\n",
        "data['class'] = le.fit_transform(data['class'])\n",
        "\n",
        "# Print label encoding mappings\n",
        "print(\"Label Encoding Mappings:\")\n",
        "label_mappings = dict(zip(le.classes_, le.transform(le.classes_)))\n",
        "for label, encoded_value in label_mappings.items():\n",
        "    print(f\"{label}: {encoded_value}\")"
      ],
      "metadata": {
        "colab": {
          "base_uri": "https://localhost:8080/"
        },
        "id": "KHz7B4LZAqnf",
        "outputId": "4241f109-5a9e-4797-ed5b-b36bf0cc982b"
      },
      "execution_count": 113,
      "outputs": [
        {
          "output_type": "stream",
          "name": "stdout",
          "text": [
            "Label Encoding Mappings:\n",
            "ABBR:abb: 0\n",
            "ABBR:exp: 1\n",
            "DESC:def: 2\n",
            "DESC:desc: 3\n",
            "DESC:manner: 4\n",
            "DESC:reason: 5\n",
            "ENTY:animal: 6\n",
            "ENTY:body: 7\n",
            "ENTY:color: 8\n",
            "ENTY:cremat: 9\n",
            "ENTY:currency: 10\n",
            "ENTY:dismed: 11\n",
            "ENTY:event: 12\n",
            "ENTY:food: 13\n",
            "ENTY:instru: 14\n",
            "ENTY:lang: 15\n",
            "ENTY:letter: 16\n",
            "ENTY:other: 17\n",
            "ENTY:plant: 18\n",
            "ENTY:product: 19\n",
            "ENTY:religion: 20\n",
            "ENTY:sport: 21\n",
            "ENTY:substance: 22\n",
            "ENTY:symbol: 23\n",
            "ENTY:techmeth: 24\n",
            "ENTY:termeq: 25\n",
            "ENTY:veh: 26\n",
            "ENTY:word: 27\n",
            "HUM:desc: 28\n",
            "HUM:gr: 29\n",
            "HUM:ind: 30\n",
            "HUM:title: 31\n",
            "LOC:city: 32\n",
            "LOC:country: 33\n",
            "LOC:mount: 34\n",
            "LOC:other: 35\n",
            "LOC:state: 36\n",
            "NUM:code: 37\n",
            "NUM:count: 38\n",
            "NUM:date: 39\n",
            "NUM:dist: 40\n",
            "NUM:money: 41\n",
            "NUM:ord: 42\n",
            "NUM:other: 43\n",
            "NUM:perc: 44\n",
            "NUM:period: 45\n",
            "NUM:speed: 46\n",
            "NUM:temp: 47\n",
            "NUM:volsize: 48\n",
            "NUM:weight: 49\n"
          ]
        }
      ]
    },
    {
      "cell_type": "code",
      "source": [
        "from sklearn.model_selection import train_test_split\n",
        "\n",
        "# Splitting the data into train and test/validation\n",
        "train_data, test_data = train_test_split(data, test_size=0.2, random_state=42)\n",
        "\n",
        "# Printing the sizes of the split datasets\n",
        "print(\"Train data size:\", train_data.shape)\n",
        "print(\"Test data size:\", test_data.shape)"
      ],
      "metadata": {
        "id": "UyH-QxNi8-RI",
        "outputId": "169ade3c-3afd-42a1-d907-42b0a67280bb",
        "execution": {
          "iopub.status.busy": "2023-05-27T16:59:38.995968Z",
          "iopub.execute_input": "2023-05-27T16:59:38.996515Z",
          "iopub.status.idle": "2023-05-27T16:59:39.537794Z",
          "shell.execute_reply.started": "2023-05-27T16:59:38.996482Z",
          "shell.execute_reply": "2023-05-27T16:59:39.536805Z"
        },
        "trusted": true,
        "colab": {
          "base_uri": "https://localhost:8080/"
        }
      },
      "execution_count": 114,
      "outputs": [
        {
          "output_type": "stream",
          "name": "stdout",
          "text": [
            "Train data size: (12361, 2)\n",
            "Test data size: (3091, 2)\n"
          ]
        }
      ]
    },
    {
      "cell_type": "code",
      "source": [
        "# Convert DataFrame to Arrow Dataset\n",
        "train_data = Dataset.from_pandas(train_data)\n",
        "test_data = Dataset.from_pandas(test_data)"
      ],
      "metadata": {
        "id": "SEYCBbB79ERp",
        "execution": {
          "iopub.status.busy": "2023-05-27T16:59:39.539200Z",
          "iopub.execute_input": "2023-05-27T16:59:39.539546Z",
          "iopub.status.idle": "2023-05-27T16:59:39.820693Z",
          "shell.execute_reply.started": "2023-05-27T16:59:39.539515Z",
          "shell.execute_reply": "2023-05-27T16:59:39.819682Z"
        },
        "trusted": true
      },
      "execution_count": 115,
      "outputs": []
    },
    {
      "cell_type": "code",
      "source": [
        "train_data #checking structure of Arrow dataset"
      ],
      "metadata": {
        "id": "66HQd-1C9WUN",
        "outputId": "7dd0e3ea-1f02-429e-e05c-3cf3e695365e",
        "execution": {
          "iopub.status.busy": "2023-05-27T16:59:39.822247Z",
          "iopub.execute_input": "2023-05-27T16:59:39.822582Z",
          "iopub.status.idle": "2023-05-27T16:59:39.828997Z",
          "shell.execute_reply.started": "2023-05-27T16:59:39.822550Z",
          "shell.execute_reply": "2023-05-27T16:59:39.828156Z"
        },
        "trusted": true,
        "colab": {
          "base_uri": "https://localhost:8080/"
        }
      },
      "execution_count": 116,
      "outputs": [
        {
          "output_type": "execute_result",
          "data": {
            "text/plain": [
              "Dataset({\n",
              "    features: ['text', 'class', '__index_level_0__'],\n",
              "    num_rows: 12361\n",
              "})"
            ]
          },
          "metadata": {},
          "execution_count": 116
        }
      ]
    },
    {
      "cell_type": "code",
      "source": [
        "#Tokenizing and embedding\n",
        "def tokenize_and_numericalize_data(example, tokenizer):\n",
        "    ids = tokenizer(example['text'], truncation=True)['input_ids']\n",
        "    return {'ids': ids}"
      ],
      "metadata": {
        "id": "zCBTESs-9I4w",
        "execution": {
          "iopub.status.busy": "2023-05-27T16:59:39.833091Z",
          "iopub.execute_input": "2023-05-27T16:59:39.833773Z",
          "iopub.status.idle": "2023-05-27T16:59:39.838862Z",
          "shell.execute_reply.started": "2023-05-27T16:59:39.833740Z",
          "shell.execute_reply": "2023-05-27T16:59:39.837970Z"
        },
        "trusted": true
      },
      "execution_count": 117,
      "outputs": []
    },
    {
      "cell_type": "code",
      "source": [
        "#Tokenizing and embedding\n",
        "train_data = train_data.map(tokenize_and_numericalize_data, fn_kwargs={'tokenizer': tokenizer})\n",
        "test_data = test_data.map(tokenize_and_numericalize_data, fn_kwargs={'tokenizer': tokenizer})"
      ],
      "metadata": {
        "id": "C5DLJpF19Mso",
        "outputId": "7b7588b6-c5a1-4414-84c5-31b097e4feac",
        "execution": {
          "iopub.status.busy": "2023-05-27T16:59:39.840306Z",
          "iopub.execute_input": "2023-05-27T16:59:39.840851Z",
          "iopub.status.idle": "2023-05-27T17:01:13.453416Z",
          "shell.execute_reply.started": "2023-05-27T16:59:39.840820Z",
          "shell.execute_reply": "2023-05-27T17:01:13.452515Z"
        },
        "trusted": true,
        "colab": {
          "referenced_widgets": [
            "ac7caa48fafa492088e0685f94f2fc4a",
            "4452308f199b461e9bbcd3d97df026df",
            "5148e343155c41e2b190d90d0b7e867d",
            "4fd77647a4924eb9b45e4758d84e190b",
            "eb400cca10fe442b84b9753378382f92",
            "52bd6d1d973c4752925f3091f323596d",
            "fbe503bce6954701a3c6554178445d09",
            "fcc1a4a35ee54073b5cb76ae391e0e82",
            "0f45b792bb6249aeb23e596188ec0c00",
            "b1637730ceef46408c48edb8eea0f83e",
            "a11f67421da84b8ca862b1a34b255b3d",
            "94288377428c4caa9daec33a415fecf5",
            "69aec20365b84318a60b42a3a312c5f3",
            "fa23242709f44d7089b626ded4b4dfc2",
            "990c7edb48bc4091bfbdba7a7276f70e",
            "d660b5a0eaf048e3ba1fe7f8e9ae1183",
            "3f831653fc514033a3284bd055ba440f",
            "51752d02041d49329fc91903bcd18c24",
            "d37d384c38a349f38626a240871f00a8",
            "a05732bd23464e78b6e5a975419f7477",
            "236258744fc94f4f8cc7d23693e73323",
            "2f33731f24f4446d8ab2b557d6045d57"
          ],
          "base_uri": "https://localhost:8080/",
          "height": 17
        }
      },
      "execution_count": 118,
      "outputs": [
        {
          "output_type": "display_data",
          "data": {
            "text/plain": [
              "Map:   0%|          | 0/12361 [00:00<?, ? examples/s]"
            ],
            "application/vnd.jupyter.widget-view+json": {
              "version_major": 2,
              "version_minor": 0,
              "model_id": "ac7caa48fafa492088e0685f94f2fc4a"
            }
          },
          "metadata": {}
        },
        {
          "output_type": "display_data",
          "data": {
            "text/plain": [
              "Map:   0%|          | 0/3091 [00:00<?, ? examples/s]"
            ],
            "application/vnd.jupyter.widget-view+json": {
              "version_major": 2,
              "version_minor": 0,
              "model_id": "94288377428c4caa9daec33a415fecf5"
            }
          },
          "metadata": {}
        }
      ]
    },
    {
      "cell_type": "code",
      "source": [
        "pad_index = tokenizer.pad_token_id #padding index to make all the strings in the data set of the same length"
      ],
      "metadata": {
        "id": "yd8amSd59OPB",
        "execution": {
          "iopub.status.busy": "2023-05-27T17:01:13.454745Z",
          "iopub.execute_input": "2023-05-27T17:01:13.455192Z",
          "iopub.status.idle": "2023-05-27T17:01:13.460566Z",
          "shell.execute_reply.started": "2023-05-27T17:01:13.455151Z",
          "shell.execute_reply": "2023-05-27T17:01:13.459723Z"
        },
        "trusted": true
      },
      "execution_count": 119,
      "outputs": []
    },
    {
      "cell_type": "code",
      "source": [
        "test_size = 0.2\n",
        "#creating validation set\n",
        "train_valid_data = train_data.train_test_split(test_size=test_size)\n",
        "train_data = train_valid_data['train']\n",
        "valid_data = train_valid_data['test']"
      ],
      "metadata": {
        "id": "SBEU-Ewj9yrA",
        "execution": {
          "iopub.status.busy": "2023-05-27T17:01:13.462126Z",
          "iopub.execute_input": "2023-05-27T17:01:13.462751Z",
          "iopub.status.idle": "2023-05-27T17:01:13.488982Z",
          "shell.execute_reply.started": "2023-05-27T17:01:13.462717Z",
          "shell.execute_reply": "2023-05-27T17:01:13.488125Z"
        },
        "trusted": true
      },
      "execution_count": 120,
      "outputs": []
    },
    {
      "cell_type": "code",
      "source": [
        "#converting all the splits tran, test and valid in to pytorch format\n",
        "train_data = train_data.with_format(type='torch', columns=['ids', 'class'])\n",
        "valid_data = valid_data.with_format(type='torch', columns=['ids', 'class'])\n",
        "test_data = test_data.with_format(type='torch', columns=['ids', 'class'])"
      ],
      "metadata": {
        "id": "3sNVvjju90eQ",
        "execution": {
          "iopub.status.busy": "2023-05-27T17:01:13.490417Z",
          "iopub.execute_input": "2023-05-27T17:01:13.490805Z",
          "iopub.status.idle": "2023-05-27T17:01:13.500623Z",
          "shell.execute_reply.started": "2023-05-27T17:01:13.490773Z",
          "shell.execute_reply": "2023-05-27T17:01:13.499757Z"
        },
        "trusted": true
      },
      "execution_count": 121,
      "outputs": []
    },
    {
      "cell_type": "code",
      "source": [
        "transformer = transformers.AutoModel.from_pretrained(transformer_name) #making transformer object"
      ],
      "metadata": {
        "id": "h90cljOX916w",
        "outputId": "63d5502a-662c-46a4-df08-548edce9cd48",
        "execution": {
          "iopub.status.busy": "2023-05-27T17:01:13.502011Z",
          "iopub.execute_input": "2023-05-27T17:01:13.502581Z",
          "iopub.status.idle": "2023-05-27T17:01:23.991449Z",
          "shell.execute_reply.started": "2023-05-27T17:01:13.502543Z",
          "shell.execute_reply": "2023-05-27T17:01:23.990446Z"
        },
        "trusted": true,
        "colab": {
          "base_uri": "https://localhost:8080/"
        }
      },
      "execution_count": 122,
      "outputs": [
        {
          "output_type": "stream",
          "name": "stderr",
          "text": [
            "Some weights of the model checkpoint at bert-base-uncased were not used when initializing BertModel: ['cls.predictions.transform.LayerNorm.weight', 'cls.predictions.transform.dense.bias', 'cls.predictions.bias', 'cls.seq_relationship.bias', 'cls.seq_relationship.weight', 'cls.predictions.transform.dense.weight', 'cls.predictions.transform.LayerNorm.bias']\n",
            "- This IS expected if you are initializing BertModel from the checkpoint of a model trained on another task or with another architecture (e.g. initializing a BertForSequenceClassification model from a BertForPreTraining model).\n",
            "- This IS NOT expected if you are initializing BertModel from the checkpoint of a model that you expect to be exactly identical (initializing a BertForSequenceClassification model from a BertForSequenceClassification model).\n"
          ]
        }
      ]
    },
    {
      "cell_type": "code",
      "source": [
        "#checking the number of hidden size in the transformer\n",
        "transformer.config.hidden_size"
      ],
      "metadata": {
        "id": "-_z6K2qo93tI",
        "outputId": "932eccb4-39e6-433f-d555-c7601a9f55e5",
        "execution": {
          "iopub.status.busy": "2023-05-27T17:01:23.992932Z",
          "iopub.execute_input": "2023-05-27T17:01:23.993523Z",
          "iopub.status.idle": "2023-05-27T17:01:24.000013Z",
          "shell.execute_reply.started": "2023-05-27T17:01:23.993487Z",
          "shell.execute_reply": "2023-05-27T17:01:23.999102Z"
        },
        "trusted": true,
        "colab": {
          "base_uri": "https://localhost:8080/"
        }
      },
      "execution_count": 123,
      "outputs": [
        {
          "output_type": "execute_result",
          "data": {
            "text/plain": [
              "768"
            ]
          },
          "metadata": {},
          "execution_count": 123
        }
      ]
    },
    {
      "cell_type": "code",
      "source": [
        "import torch\n",
        "import torch.nn as nn\n",
        "#from transformers import *\n",
        "\n",
        "class Transformer(nn.Module):\n",
        "    def __init__(self, transformer, output_dim, freeze):\n",
        "        super().__init__()\n",
        "        self.transformer = transformer\n",
        "        hidden_dim = transformer.config.hidden_size\n",
        "\n",
        "        # Add a CNN layer\n",
        "        self.cnn = nn.Conv1d(hidden_dim, hidden_dim, kernel_size=3, padding=1)\n",
        "\n",
        "        self.fc = nn.Linear(hidden_dim, output_dim)\n",
        "\n",
        "        if freeze:\n",
        "            for param in self.transformer.parameters():\n",
        "                param.requires_grad = False\n",
        "\n",
        "    def forward(self, ids):\n",
        "        # ids = [batch size, seq len]\n",
        "        output = self.transformer(ids, output_attentions=True)\n",
        "        hidden = output.last_hidden_state\n",
        "        # hidden = [batch size, seq len, hidden dim]\n",
        "        attention = output.attentions[-1]\n",
        "        # attention = [batch size, n heads, seq len, seq len]\n",
        "        cls_hidden = hidden[:, 0, :]  # Take the first token\n",
        "\n",
        "        # Reshape for Conv1d input\n",
        "        cls_hidden = cls_hidden.unsqueeze(2)  # [batch size, hidden dim, 1]\n",
        "\n",
        "        # Move tensors to the same device\n",
        "        device = hidden.device\n",
        "        cls_hidden = cls_hidden.to(device)\n",
        "\n",
        "        # Apply the CNN layer\n",
        "        cls_hidden = self.cnn(cls_hidden)\n",
        "\n",
        "        # Reshape back\n",
        "        cls_hidden = cls_hidden.squeeze(2)  # [batch size, hidden dim]\n",
        "\n",
        "        prediction = self.fc(torch.tanh(cls_hidden))\n",
        "        # prediction = [batch size, output dim]\n",
        "        return prediction\n"
      ],
      "metadata": {
        "id": "l1kfnpazqHpW",
        "execution": {
          "iopub.status.busy": "2023-05-27T17:06:55.760919Z",
          "iopub.execute_input": "2023-05-27T17:06:55.761304Z",
          "iopub.status.idle": "2023-05-27T17:06:55.770927Z",
          "shell.execute_reply.started": "2023-05-27T17:06:55.761274Z",
          "shell.execute_reply": "2023-05-27T17:06:55.769855Z"
        },
        "trusted": true
      },
      "execution_count": 124,
      "outputs": []
    },
    {
      "cell_type": "code",
      "source": [
        "output_dim = len(pd.Series(train_data['class']).unique()) #taking the output dimention\n",
        "freeze = False #basically letting the model to update weights of hidden layers after each iteration"
      ],
      "metadata": {
        "id": "ePixf31TcpvO",
        "execution": {
          "iopub.status.busy": "2023-05-27T17:06:55.950950Z",
          "iopub.execute_input": "2023-05-27T17:06:55.951604Z",
          "iopub.status.idle": "2023-05-27T17:06:56.249947Z",
          "shell.execute_reply.started": "2023-05-27T17:06:55.951569Z",
          "shell.execute_reply": "2023-05-27T17:06:56.248996Z"
        },
        "trusted": true
      },
      "execution_count": 125,
      "outputs": []
    },
    {
      "cell_type": "code",
      "source": [
        "output_dim"
      ],
      "metadata": {
        "colab": {
          "base_uri": "https://localhost:8080/"
        },
        "id": "3E_cZvZr7QsG",
        "outputId": "ebe50a70-4fb8-4e92-cabf-4c1ef804f852"
      },
      "execution_count": 126,
      "outputs": [
        {
          "output_type": "execute_result",
          "data": {
            "text/plain": [
              "50"
            ]
          },
          "metadata": {},
          "execution_count": 126
        }
      ]
    },
    {
      "cell_type": "code",
      "source": [
        "model = Transformer(transformer, output_dim, freeze) #initializing transformer object"
      ],
      "metadata": {
        "id": "hGFlogMQ967w",
        "execution": {
          "iopub.status.busy": "2023-05-27T17:06:56.251960Z",
          "iopub.execute_input": "2023-05-27T17:06:56.252327Z",
          "iopub.status.idle": "2023-05-27T17:06:56.270614Z",
          "shell.execute_reply.started": "2023-05-27T17:06:56.252295Z",
          "shell.execute_reply": "2023-05-27T17:06:56.269771Z"
        },
        "trusted": true
      },
      "execution_count": 127,
      "outputs": []
    },
    {
      "cell_type": "code",
      "source": [
        "def count_parameters(model): #checking total number of trainable parameters\n",
        "    return sum(p.numel() for p in model.parameters() if p.requires_grad)\n",
        "\n",
        "print(f'The model has {count_parameters(model):,} trainable parameters')"
      ],
      "metadata": {
        "id": "yM2sMBmr98jB",
        "outputId": "4ec7ef25-f289-4204-c4c1-6516c937ca29",
        "execution": {
          "iopub.status.busy": "2023-05-27T17:06:56.377913Z",
          "iopub.execute_input": "2023-05-27T17:06:56.378276Z",
          "iopub.status.idle": "2023-05-27T17:06:56.385659Z",
          "shell.execute_reply.started": "2023-05-27T17:06:56.378249Z",
          "shell.execute_reply": "2023-05-27T17:06:56.384601Z"
        },
        "trusted": true,
        "colab": {
          "base_uri": "https://localhost:8080/"
        }
      },
      "execution_count": 128,
      "outputs": [
        {
          "output_type": "stream",
          "name": "stdout",
          "text": [
            "The model has 111,290,930 trainable parameters\n"
          ]
        }
      ]
    },
    {
      "cell_type": "code",
      "source": [
        "lr = 1e-5 #setting lerning rate\n",
        "\n",
        "optimizer = optim.Adam(model.parameters(), lr=lr) #setting optimizer for the model"
      ],
      "metadata": {
        "id": "xctb4wM9992w",
        "execution": {
          "iopub.status.busy": "2023-05-27T17:06:56.578916Z",
          "iopub.execute_input": "2023-05-27T17:06:56.579297Z",
          "iopub.status.idle": "2023-05-27T17:06:56.585738Z",
          "shell.execute_reply.started": "2023-05-27T17:06:56.579267Z",
          "shell.execute_reply": "2023-05-27T17:06:56.584546Z"
        },
        "trusted": true
      },
      "execution_count": 129,
      "outputs": []
    },
    {
      "cell_type": "code",
      "source": [
        "criterion = nn.CrossEntropyLoss() #setting crossentropy loss as this is a multiclass classification"
      ],
      "metadata": {
        "id": "T-mkNN9S9_Zg",
        "execution": {
          "iopub.status.busy": "2023-05-27T17:06:56.821866Z",
          "iopub.execute_input": "2023-05-27T17:06:56.822251Z",
          "iopub.status.idle": "2023-05-27T17:06:56.827228Z",
          "shell.execute_reply.started": "2023-05-27T17:06:56.822221Z",
          "shell.execute_reply": "2023-05-27T17:06:56.826151Z"
        },
        "trusted": true
      },
      "execution_count": 130,
      "outputs": []
    },
    {
      "cell_type": "code",
      "source": [
        "device = torch.device('cuda') #setting device to cuda so we can utilize gpu"
      ],
      "metadata": {
        "id": "JIclThQO-Awo",
        "execution": {
          "iopub.status.busy": "2023-05-27T17:06:57.020774Z",
          "iopub.execute_input": "2023-05-27T17:06:57.021176Z",
          "iopub.status.idle": "2023-05-27T17:06:57.026125Z",
          "shell.execute_reply.started": "2023-05-27T17:06:57.021136Z",
          "shell.execute_reply": "2023-05-27T17:06:57.025064Z"
        },
        "trusted": true
      },
      "execution_count": 131,
      "outputs": []
    },
    {
      "cell_type": "code",
      "source": [
        "device #checking device"
      ],
      "metadata": {
        "execution": {
          "iopub.status.busy": "2023-05-27T17:06:57.610965Z",
          "iopub.execute_input": "2023-05-27T17:06:57.611632Z",
          "iopub.status.idle": "2023-05-27T17:06:57.618465Z",
          "shell.execute_reply.started": "2023-05-27T17:06:57.611598Z",
          "shell.execute_reply": "2023-05-27T17:06:57.617515Z"
        },
        "trusted": true,
        "id": "_1RN5_T2-8eO",
        "outputId": "67b8a6ba-6306-49b9-8206-55f62e9824a9",
        "colab": {
          "base_uri": "https://localhost:8080/"
        }
      },
      "execution_count": 132,
      "outputs": [
        {
          "output_type": "execute_result",
          "data": {
            "text/plain": [
              "device(type='cuda')"
            ]
          },
          "metadata": {},
          "execution_count": 132
        }
      ]
    },
    {
      "cell_type": "code",
      "source": [
        "model = model.to(device) #transfering model and loss criteria to cuda device\n",
        "criterion = criterion.to(device)"
      ],
      "metadata": {
        "id": "Bdc0eeda-CuY",
        "execution": {
          "iopub.status.busy": "2023-05-27T17:06:58.501901Z",
          "iopub.execute_input": "2023-05-27T17:06:58.503026Z",
          "iopub.status.idle": "2023-05-27T17:06:58.513519Z",
          "shell.execute_reply.started": "2023-05-27T17:06:58.502984Z",
          "shell.execute_reply": "2023-05-27T17:06:58.512542Z"
        },
        "trusted": true
      },
      "execution_count": 133,
      "outputs": []
    },
    {
      "cell_type": "code",
      "source": [
        "\n",
        "def collate(batch, pad_index):\n",
        "    # Extract the 'ids' field from each item in the batch\n",
        "    batch_ids = [i['ids'] for i in batch]\n",
        "\n",
        "    # Pad the sequences in the batch to have equal lengths\n",
        "    # using the pad_sequence function from nn.utils.rnn module\n",
        "    # with the specified padding value and set batch_first=True\n",
        "    batch_ids = nn.utils.rnn.pad_sequence(batch_ids, padding_value=pad_index, batch_first=True)\n",
        "\n",
        "    # Extract the 'class' field from each item in the batch\n",
        "    batch_class = [i['class'] for i in batch]\n",
        "\n",
        "    # Stack the classs in the batch to create a tensor\n",
        "    batch_class = torch.stack(batch_class)\n",
        "\n",
        "    # Create a dictionary with the 'ids' and 'class' fields\n",
        "    # and return it as the collated batch\n",
        "    batch = {'ids': batch_ids,\n",
        "             'class': batch_class}\n",
        "\n",
        "    return batch"
      ],
      "metadata": {
        "id": "LDw3uhDi-Hgg",
        "execution": {
          "iopub.status.busy": "2023-05-27T17:06:59.342759Z",
          "iopub.execute_input": "2023-05-27T17:06:59.343132Z",
          "iopub.status.idle": "2023-05-27T17:06:59.351547Z",
          "shell.execute_reply.started": "2023-05-27T17:06:59.343082Z",
          "shell.execute_reply": "2023-05-27T17:06:59.350273Z"
        },
        "trusted": true
      },
      "execution_count": 134,
      "outputs": []
    },
    {
      "cell_type": "code",
      "source": [
        "batch_size = 4\n",
        "\n",
        "# Create a partial function 'collate' with the 'pad_index' argument set to 'pad_index' value\n",
        "collate = functools.partial(collate, pad_index=pad_index)\n",
        "\n",
        "# Create a training data loader\n",
        "train_dataloader = torch.utils.data.DataLoader(\n",
        "    train_data,\n",
        "    batch_size=batch_size,\n",
        "    collate_fn=collate,\n",
        "    shuffle=True\n",
        ")\n",
        "\n",
        "# Create a validation data loader\n",
        "valid_dataloader = torch.utils.data.DataLoader(\n",
        "    valid_data,\n",
        "    batch_size=batch_size,\n",
        "    collate_fn=collate\n",
        ")\n",
        "\n",
        "# Create a test data loader\n",
        "test_dataloader = torch.utils.data.DataLoader(\n",
        "    test_data,\n",
        "    batch_size=batch_size,\n",
        "    collate_fn=collate\n",
        ")"
      ],
      "metadata": {
        "id": "WMKhFbq7-M3l",
        "execution": {
          "iopub.status.busy": "2023-05-27T17:07:00.700915Z",
          "iopub.execute_input": "2023-05-27T17:07:00.701571Z",
          "iopub.status.idle": "2023-05-27T17:07:00.707954Z",
          "shell.execute_reply.started": "2023-05-27T17:07:00.701539Z",
          "shell.execute_reply": "2023-05-27T17:07:00.707026Z"
        },
        "trusted": true
      },
      "execution_count": 135,
      "outputs": []
    },
    {
      "cell_type": "code",
      "source": [
        "import tqdm\n",
        "import sys\n",
        "\n",
        "def train(dataloader, model, criterion, optimizer, device):\n",
        "    model.train()\n",
        "    epoch_losses = []\n",
        "    epoch_accs = []\n",
        "\n",
        "    for batch in tqdm.tqdm(dataloader, desc='Training...', file=sys.stdout):\n",
        "        ids = batch['ids'].to(device)\n",
        "        label = batch['class'].to(device)\n",
        "\n",
        "        optimizer.zero_grad() #remove the accumulated gradients from previous iterations\n",
        "\n",
        "        # Forward pass\n",
        "        predictions = model(ids)\n",
        "        loss = criterion(predictions, label) #crossentropy loss\n",
        "\n",
        "        # Backward pass and optimization\n",
        "        loss.backward() #backward pass\n",
        "        optimizer.step() #updation\n",
        "\n",
        "        # Calculate accuracy\n",
        "        accuracy = get_accuracy(predictions, label)\n",
        "\n",
        "        # Append loss and accuracy to epoch lists\n",
        "        epoch_losses.append(loss.item())\n",
        "        epoch_accs.append(accuracy)\n",
        "\n",
        "    return epoch_losses, epoch_accs"
      ],
      "metadata": {
        "id": "ZhygY8U6-O7u",
        "execution": {
          "iopub.status.busy": "2023-05-27T17:01:29.193454Z",
          "iopub.execute_input": "2023-05-27T17:01:29.193939Z",
          "iopub.status.idle": "2023-05-27T17:01:29.204538Z",
          "shell.execute_reply.started": "2023-05-27T17:01:29.193903Z",
          "shell.execute_reply": "2023-05-27T17:01:29.203565Z"
        },
        "trusted": true
      },
      "execution_count": 136,
      "outputs": []
    },
    {
      "cell_type": "code",
      "source": [
        "def evaluate(dataloader, model, criterion, device):\n",
        "    model.eval()  # Sets the model to evaluation mode\n",
        "    epoch_losses = []  # List to store the losses for each batch\n",
        "    epoch_accs = []  # List to store the accuracies for each batch\n",
        "\n",
        "    with torch.no_grad():  # Disables gradient computation\n",
        "        for batch in tqdm.tqdm(dataloader, desc='evaluating...', file=sys.stdout):\n",
        "            ids = batch['ids'].to(device)  # Move input tensors to the specified device (e.g., GPU)\n",
        "            label = batch['class'].to(device)  # Move target tensors to the specified device\n",
        "            prediction = model(ids)  # Forward pass through the model to obtain predictions\n",
        "            loss = criterion(prediction, label)  # Calculate the loss using the provided criterion\n",
        "            accuracy = get_accuracy(prediction, label)  # Calculate the accuracy\n",
        "            epoch_losses.append(loss.item())  # Store the loss value in the list\n",
        "            epoch_accs.append(accuracy)  # Store the accuracy value in the list\n",
        "\n",
        "    return epoch_losses, epoch_accs  # Return the lists of losses and accuracies"
      ],
      "metadata": {
        "id": "y6wWPR5p-Qx9",
        "execution": {
          "iopub.status.busy": "2023-05-27T17:01:29.205892Z",
          "iopub.execute_input": "2023-05-27T17:01:29.206269Z",
          "iopub.status.idle": "2023-05-27T17:01:29.216879Z",
          "shell.execute_reply.started": "2023-05-27T17:01:29.206236Z",
          "shell.execute_reply": "2023-05-27T17:01:29.215920Z"
        },
        "trusted": true
      },
      "execution_count": 137,
      "outputs": []
    },
    {
      "cell_type": "code",
      "source": [
        "def get_accuracy(prediction, label):\n",
        "    batch_size, _ = prediction.shape #batch size\n",
        "    predicted_classes = prediction.argmax(dim=-1) #get the predicted labels\n",
        "    #correct_predictions = predicted_classes.eq(label).sum()\n",
        "    correct_predictions = (predicted_classes == label).sum().item()  #compare and check the predicitions\n",
        "    accuracy = correct_predictions / batch_size #accuracy is computed by dividing the number of correct predictions by the batch size\n",
        "    return accuracy"
      ],
      "metadata": {
        "id": "9HzoaJql-SUl",
        "execution": {
          "iopub.status.busy": "2023-05-27T17:01:29.218221Z",
          "iopub.execute_input": "2023-05-27T17:01:29.219018Z",
          "iopub.status.idle": "2023-05-27T17:01:29.227102Z",
          "shell.execute_reply.started": "2023-05-27T17:01:29.218986Z",
          "shell.execute_reply": "2023-05-27T17:01:29.226224Z"
        },
        "trusted": true
      },
      "execution_count": 138,
      "outputs": []
    },
    {
      "cell_type": "code",
      "source": [
        "torch.cuda.empty_cache() #emptying cuda cache memory"
      ],
      "metadata": {
        "execution": {
          "iopub.status.busy": "2023-05-27T17:01:29.228408Z",
          "iopub.execute_input": "2023-05-27T17:01:29.228959Z",
          "iopub.status.idle": "2023-05-27T17:01:29.240365Z",
          "shell.execute_reply.started": "2023-05-27T17:01:29.228923Z",
          "shell.execute_reply": "2023-05-27T17:01:29.239571Z"
        },
        "trusted": true,
        "id": "JcV9zuO5-8eP"
      },
      "execution_count": 139,
      "outputs": []
    },
    {
      "cell_type": "code",
      "source": [
        "torch.cuda.memory_summary(device=None, abbreviated=False) #checking summary of cuda memory usage"
      ],
      "metadata": {
        "execution": {
          "iopub.status.busy": "2023-05-27T08:09:07.347476Z",
          "iopub.execute_input": "2023-05-27T08:09:07.347876Z",
          "iopub.status.idle": "2023-05-27T08:09:07.356309Z",
          "shell.execute_reply.started": "2023-05-27T08:09:07.347845Z",
          "shell.execute_reply": "2023-05-27T08:09:07.355192Z"
        },
        "trusted": true,
        "id": "gBvD50P--8eQ",
        "colab": {
          "base_uri": "https://localhost:8080/",
          "height": 122
        },
        "outputId": "86e4ebd9-5474-42e9-81ce-d8a014f278df"
      },
      "execution_count": 140,
      "outputs": [
        {
          "output_type": "execute_result",
          "data": {
            "text/plain": [
              "'|===========================================================================|\\n|                  PyTorch CUDA memory summary, device ID 0                 |\\n|---------------------------------------------------------------------------|\\n|            CUDA OOMs: 0            |        cudaMalloc retries: 0         |\\n|===========================================================================|\\n|        Metric         | Cur Usage  | Peak Usage | Tot Alloc  | Tot Freed  |\\n|---------------------------------------------------------------------------|\\n| Allocated memory      | 451972 KiB |   2559 MiB |  10648 GiB |  10648 GiB |\\n|       from large pool | 451328 KiB |   2555 MiB |   8902 GiB |   8901 GiB |\\n|       from small pool |    644 KiB |     61 MiB |   1746 GiB |   1746 GiB |\\n|---------------------------------------------------------------------------|\\n| Active memory         | 451972 KiB |   2559 MiB |  10648 GiB |  10648 GiB |\\n|       from large pool | 451328 KiB |   2555 MiB |   8902 GiB |   8901 GiB |\\n|       from small pool |    644 KiB |     61 MiB |   1746 GiB |   1746 GiB |\\n|---------------------------------------------------------------------------|\\n| Requested memory      | 451378 KiB |   2552 MiB |  10568 GiB |  10567 GiB |\\n|       from large pool | 450734 KiB |   2548 MiB |   8821 GiB |   8821 GiB |\\n|       from small pool |    644 KiB |     61 MiB |   1746 GiB |   1746 GiB |\\n|---------------------------------------------------------------------------|\\n| GPU reserved memory   | 497664 KiB |   2840 MiB |   2840 MiB |   2354 MiB |\\n|       from large pool | 495616 KiB |   2774 MiB |   2774 MiB |   2290 MiB |\\n|       from small pool |   2048 KiB |     66 MiB |     66 MiB |     64 MiB |\\n|---------------------------------------------------------------------------|\\n| Non-releasable memory |  45691 KiB | 265787 KiB |  11260 GiB |  11260 GiB |\\n|       from large pool |  44288 KiB | 238080 KiB |   9356 GiB |   9356 GiB |\\n|       from small pool |   1403 KiB |  36742 KiB |   1904 GiB |   1904 GiB |\\n|---------------------------------------------------------------------------|\\n| Allocations           |     207    |    1220    |   10640 K  |   10640 K  |\\n|       from large pool |      78    |     453    |    1658 K  |    1658 K  |\\n|       from small pool |     129    |     767    |    8982 K  |    8982 K  |\\n|---------------------------------------------------------------------------|\\n| Active allocs         |     207    |    1220    |   10640 K  |   10640 K  |\\n|       from large pool |      78    |     453    |    1658 K  |    1658 K  |\\n|       from small pool |     129    |     767    |    8982 K  |    8982 K  |\\n|---------------------------------------------------------------------------|\\n| GPU reserved segments |      22    |     151    |     151    |     129    |\\n|       from large pool |      21    |     118    |     118    |      97    |\\n|       from small pool |       1    |      33    |      33    |      32    |\\n|---------------------------------------------------------------------------|\\n| Non-releasable allocs |      21    |     167    |    3830 K  |    3830 K  |\\n|       from large pool |      20    |     105    |     497 K  |     497 K  |\\n|       from small pool |       1    |      65    |    3333 K  |    3333 K  |\\n|---------------------------------------------------------------------------|\\n| Oversize allocations  |       0    |       0    |       0    |       0    |\\n|---------------------------------------------------------------------------|\\n| Oversize GPU segments |       0    |       0    |       0    |       0    |\\n|===========================================================================|\\n'"
            ],
            "application/vnd.google.colaboratory.intrinsic+json": {
              "type": "string"
            }
          },
          "metadata": {},
          "execution_count": 140
        }
      ]
    },
    {
      "cell_type": "code",
      "source": [
        "n_epochs = 3\n",
        "best_valid_loss = float('inf')\n",
        "\n",
        "train_losses = []   # List to store train losses\n",
        "train_accs = []     # List to store train accuracies\n",
        "valid_losses = []   # List to store validation losses\n",
        "valid_accs = []     # List to store validation accuracies\n",
        "\n",
        "for epoch in range(n_epochs):\n",
        "\n",
        "    train_loss, train_acc = train(train_dataloader, model, criterion, optimizer, device)  # Train the model\n",
        "    valid_loss, valid_acc = evaluate(valid_dataloader, model, criterion, device)  # Evaluate the model on validation data\n",
        "\n",
        "    train_losses.extend(train_loss)   # Append train losses to the list\n",
        "    train_accs.extend(train_acc)      # Append train accuracies to the list\n",
        "    valid_losses.extend(valid_loss)   # Append validation losses to the list\n",
        "    valid_accs.extend(valid_acc)      # Append validation accuracies to the list\n",
        "\n",
        "    epoch_train_loss = np.mean(train_loss)    # Calculate mean train loss for the epoch\n",
        "    epoch_train_acc = np.mean(train_acc)      # Calculate mean train accuracy for the epoch\n",
        "    epoch_valid_loss = np.mean(valid_loss)    # Calculate mean validation loss for the epoch\n",
        "    epoch_valid_acc = np.mean(valid_acc)      # Calculate mean validation accuracy for the epoch\n",
        "\n",
        "    if epoch_valid_loss < best_valid_loss:\n",
        "        best_valid_loss = epoch_valid_loss\n",
        "        torch.save(model.state_dict(), 'transformer.pt')  # Save the model if the validation loss improves\n",
        "\n",
        "    print(f'Epoch: {epoch+1}/{n_epochs}')\n",
        "    print(f'Train Loss: {epoch_train_loss:.3f}, Train Accuracy: {epoch_train_acc:.3f}')\n",
        "    print(f'Validation Loss: {epoch_valid_loss:.3f}, Validation Accuracy: {epoch_valid_acc:.3f}')\n",
        "    print()\n"
      ],
      "metadata": {
        "id": "qKXMh71M-T8K",
        "execution": {
          "iopub.status.busy": "2023-05-27T06:03:00.823813Z",
          "iopub.execute_input": "2023-05-27T06:03:00.824519Z",
          "iopub.status.idle": "2023-05-27T07:38:36.510898Z",
          "shell.execute_reply.started": "2023-05-27T06:03:00.824486Z",
          "shell.execute_reply": "2023-05-27T07:38:36.509820Z"
        },
        "trusted": true,
        "colab": {
          "base_uri": "https://localhost:8080/"
        },
        "outputId": "48508d0c-c67b-43db-d1db-df423198130c"
      },
      "execution_count": 141,
      "outputs": [
        {
          "output_type": "stream",
          "name": "stdout",
          "text": [
            "Training...: 100%|██████████| 2472/2472 [03:15<00:00, 12.65it/s]\n",
            "evaluating...: 100%|██████████| 619/619 [00:09<00:00, 64.08it/s]\n",
            "Epoch: 1/3\n",
            "Train Loss: 1.349, Train Accuracy: 0.718\n",
            "Validation Loss: 0.419, Validation Accuracy: 0.914\n",
            "\n",
            "Training...: 100%|██████████| 2472/2472 [03:07<00:00, 13.20it/s]\n",
            "evaluating...: 100%|██████████| 619/619 [00:07<00:00, 79.68it/s]\n",
            "Epoch: 2/3\n",
            "Train Loss: 0.286, Train Accuracy: 0.945\n",
            "Validation Loss: 0.167, Validation Accuracy: 0.965\n",
            "\n",
            "Training...: 100%|██████████| 2472/2472 [03:07<00:00, 13.21it/s]\n",
            "evaluating...: 100%|██████████| 619/619 [00:07<00:00, 79.79it/s]\n",
            "Epoch: 3/3\n",
            "Train Loss: 0.103, Train Accuracy: 0.982\n",
            "Validation Loss: 0.107, Validation Accuracy: 0.981\n",
            "\n"
          ]
        }
      ]
    },
    {
      "cell_type": "code",
      "source": [
        "# Plotting the training and validation losses\n",
        "plt.figure(figsize=(10, 5))\n",
        "plt.plot(train_losses, label='Train Loss')\n",
        "plt.plot(valid_losses, label='Validation Loss')\n",
        "plt.xlabel('Iterations')\n",
        "plt.ylabel('Loss')\n",
        "plt.legend()\n",
        "plt.title('Training and Validation Loss')\n",
        "plt.show()\n",
        "\n",
        "# Plotting the training and validation accuracies\n",
        "plt.figure(figsize=(10, 5))\n",
        "plt.plot(train_accs, label='Train Accuracy')\n",
        "plt.plot(valid_accs, label='Validation Accuracy')\n",
        "plt.xlabel('Iterations')\n",
        "plt.ylabel('Accuracy')\n",
        "plt.legend()\n",
        "plt.title('Training and Validation Accuracy')\n",
        "plt.show()"
      ],
      "metadata": {
        "id": "1Ck7HMrd-t_b",
        "execution": {
          "iopub.status.busy": "2023-05-27T08:13:56.472057Z",
          "iopub.execute_input": "2023-05-27T08:13:56.472441Z",
          "iopub.status.idle": "2023-05-27T08:13:56.566922Z",
          "shell.execute_reply.started": "2023-05-27T08:13:56.472410Z",
          "shell.execute_reply": "2023-05-27T08:13:56.565424Z"
        },
        "trusted": true,
        "colab": {
          "base_uri": "https://localhost:8080/",
          "height": 957
        },
        "outputId": "cfe90f7a-bb65-4005-dbf7-e7bca3741b31"
      },
      "execution_count": 142,
      "outputs": [
        {
          "output_type": "display_data",
          "data": {
            "text/plain": [
              "<Figure size 1000x500 with 1 Axes>"
            ],
            "image/png": "[encoded data removed]"
          },
          "metadata": {}
        },
        {
          "output_type": "display_data",
          "data": {
            "text/plain": [
              "<Figure size 1000x500 with 1 Axes>"
            ],
            "image/png": "[encoded data removed]"
          },
          "metadata": {}
        }
      ]
    },
    {
      "cell_type": "code",
      "source": [
        "print(model) #print model structure"
      ],
      "metadata": {
        "execution": {
          "iopub.status.busy": "2023-05-27T15:30:05.913477Z",
          "iopub.execute_input": "2023-05-27T15:30:05.913888Z",
          "iopub.status.idle": "2023-05-27T15:30:05.921385Z",
          "shell.execute_reply.started": "2023-05-27T15:30:05.913854Z",
          "shell.execute_reply": "2023-05-27T15:30:05.920263Z"
        },
        "trusted": true,
        "id": "SfcXcvrz-8eQ",
        "outputId": "b4f27ac7-0eb8-4c84-ee48-bea99e564fac",
        "colab": {
          "base_uri": "https://localhost:8080/"
        }
      },
      "execution_count": 143,
      "outputs": [
        {
          "output_type": "stream",
          "name": "stdout",
          "text": [
            "Transformer(\n",
            "  (transformer): BertModel(\n",
            "    (embeddings): BertEmbeddings(\n",
            "      (word_embeddings): Embedding(30522, 768, padding_idx=0)\n",
            "      (position_embeddings): Embedding(512, 768)\n",
            "      (token_type_embeddings): Embedding(2, 768)\n",
            "      (LayerNorm): LayerNorm((768,), eps=1e-12, elementwise_affine=True)\n",
            "      (dropout): Dropout(p=0.1, inplace=False)\n",
            "    )\n",
            "    (encoder): BertEncoder(\n",
            "      (layer): ModuleList(\n",
            "        (0-11): 12 x BertLayer(\n",
            "          (attention): BertAttention(\n",
            "            (self): BertSelfAttention(\n",
            "              (query): Linear(in_features=768, out_features=768, bias=True)\n",
            "              (key): Linear(in_features=768, out_features=768, bias=True)\n",
            "              (value): Linear(in_features=768, out_features=768, bias=True)\n",
            "              (dropout): Dropout(p=0.1, inplace=False)\n",
            "            )\n",
            "            (output): BertSelfOutput(\n",
            "              (dense): Linear(in_features=768, out_features=768, bias=True)\n",
            "              (LayerNorm): LayerNorm((768,), eps=1e-12, elementwise_affine=True)\n",
            "              (dropout): Dropout(p=0.1, inplace=False)\n",
            "            )\n",
            "          )\n",
            "          (intermediate): BertIntermediate(\n",
            "            (dense): Linear(in_features=768, out_features=3072, bias=True)\n",
            "            (intermediate_act_fn): GELUActivation()\n",
            "          )\n",
            "          (output): BertOutput(\n",
            "            (dense): Linear(in_features=3072, out_features=768, bias=True)\n",
            "            (LayerNorm): LayerNorm((768,), eps=1e-12, elementwise_affine=True)\n",
            "            (dropout): Dropout(p=0.1, inplace=False)\n",
            "          )\n",
            "        )\n",
            "      )\n",
            "    )\n",
            "    (pooler): BertPooler(\n",
            "      (dense): Linear(in_features=768, out_features=768, bias=True)\n",
            "      (activation): Tanh()\n",
            "    )\n",
            "  )\n",
            "  (cnn): Conv1d(768, 768, kernel_size=(3,), stride=(1,), padding=(1,))\n",
            "  (fc): Linear(in_features=768, out_features=50, bias=True)\n",
            ")\n"
          ]
        }
      ]
    },
    {
      "cell_type": "code",
      "source": [
        "#model.load_state_dict(torch.load('/kaggle/input/model-fr/transformer_new.pt'))"
      ],
      "metadata": {
        "id": "PrmRQG0-2Pt8",
        "outputId": "aa0933cb-fdce-4edd-f09b-0773be01a546",
        "execution": {
          "iopub.status.busy": "2023-05-27T17:07:04.081145Z",
          "iopub.execute_input": "2023-05-27T17:07:04.081571Z",
          "iopub.status.idle": "2023-05-27T17:07:04.358140Z",
          "shell.execute_reply.started": "2023-05-27T17:07:04.081540Z",
          "shell.execute_reply": "2023-05-27T17:07:04.357137Z"
        },
        "trusted": true
      },
      "execution_count": null,
      "outputs": [
        {
          "execution_count": 53,
          "output_type": "execute_result",
          "data": {
            "text/plain": "<All keys matched successfully>"
          },
          "metadata": {}
        }
      ]
    },
    {
      "cell_type": "code",
      "source": [
        "test_loss, test_acc = evaluate(test_dataloader, model, criterion, device)  # Evaluate the model on test data\n",
        "\n",
        "epoch_test_loss = np.mean(test_loss)    # Calculate mean test loss\n",
        "epoch_test_acc = np.mean(test_acc)      # Calculate mean test accuracy\n",
        "\n",
        "print(f'test_loss: {epoch_test_loss:.3f}, test_acc: {epoch_test_acc:.3f}')  # Print the test loss and accuracy"
      ],
      "metadata": {
        "execution": {
          "iopub.status.busy": "2023-05-27T08:09:42.510181Z",
          "iopub.execute_input": "2023-05-27T08:09:42.510852Z",
          "iopub.status.idle": "2023-05-27T08:12:36.762117Z",
          "shell.execute_reply.started": "2023-05-27T08:09:42.510819Z",
          "shell.execute_reply": "2023-05-27T08:12:36.761130Z"
        },
        "trusted": true,
        "id": "pvVWZey0-8eQ",
        "colab": {
          "base_uri": "https://localhost:8080/"
        },
        "outputId": "5d176226-bbc7-4df6-e443-96fb462720db"
      },
      "execution_count": 144,
      "outputs": [
        {
          "output_type": "stream",
          "name": "stdout",
          "text": [
            "evaluating...: 100%|██████████| 773/773 [00:15<00:00, 48.65it/s]\n",
            "test_loss: 0.125, test_acc: 0.979\n"
          ]
        }
      ]
    },
    {
      "cell_type": "code",
      "source": [
        "def predict_(text, model, tokenizer, device):\n",
        "    # Tokenize the input text\n",
        "    ids = tokenizer(text)['input_ids']\n",
        "\n",
        "    # Convert the tokenized input to a PyTorch tensor and move it to the specified device\n",
        "    tensor = torch.LongTensor(ids).unsqueeze(dim=0).to(device)\n",
        "\n",
        "    # Make the prediction using the model\n",
        "    prediction = model(tensor).squeeze(dim=0)\n",
        "\n",
        "    # Apply softmax to obtain probabilities\n",
        "    probability = torch.softmax(prediction, dim=-1)\n",
        "\n",
        "    # Get the predicted class label\n",
        "    predicted_class = prediction.argmax(dim=-1).item()\n",
        "\n",
        "    # Get the predicted probability for the predicted class\n",
        "    predicted_probability = probability[predicted_class].item()\n",
        "\n",
        "    # Return the predicted class label and predicted probability\n",
        "    return predicted_class, predicted_probability\n"
      ],
      "metadata": {
        "id": "J5f-fmihZxTV",
        "execution": {
          "iopub.status.busy": "2023-05-27T08:15:13.574116Z",
          "iopub.execute_input": "2023-05-27T08:15:13.574474Z",
          "iopub.status.idle": "2023-05-27T08:15:13.580641Z",
          "shell.execute_reply.started": "2023-05-27T08:15:13.574444Z",
          "shell.execute_reply": "2023-05-27T08:15:13.579557Z"
        },
        "trusted": true
      },
      "execution_count": 145,
      "outputs": []
    },
    {
      "cell_type": "markdown",
      "source": [
        "# **Test on new text **"
      ],
      "metadata": {
        "id": "l1kbAHO4-8eR"
      }
    },
    {
      "cell_type": "code",
      "source": [
        "#making dicitonary of the class labels\n",
        "dictionary = {\n",
        "    'ABBR:abb': 0,\n",
        "    'ABBR:exp': 1,\n",
        "    'DESC:def': 2,\n",
        "    'DESC:desc': 3,\n",
        "    'DESC:manner': 4,\n",
        "    'DESC:reason': 5,\n",
        "    'ENTY:animal': 6,\n",
        "    'ENTY:body': 7,\n",
        "    'ENTY:color': 8,\n",
        "    'ENTY:cremat': 9,\n",
        "    'ENTY:currency': 10,\n",
        "    'ENTY:dismed': 11,\n",
        "    'ENTY:event': 12,\n",
        "    'ENTY:food': 13,\n",
        "    'ENTY:instru': 14,\n",
        "    'ENTY:lang': 15,\n",
        "    'ENTY:letter': 16,\n",
        "    'ENTY:other': 17,\n",
        "    'ENTY:plant': 18,\n",
        "    'ENTY:product': 19,\n",
        "    'ENTY:religion': 20,\n",
        "    'ENTY:sport': 21,\n",
        "    'ENTY:substance': 22,\n",
        "    'ENTY:symbol': 23,\n",
        "    'ENTY:techmeth': 24,\n",
        "    'ENTY:termeq': 25,\n",
        "    'ENTY:veh': 26,\n",
        "    'ENTY:word': 27,\n",
        "    'HUM:desc': 28,\n",
        "    'HUM:gr': 29,\n",
        "    'HUM:ind': 30,\n",
        "    'HUM:title': 31,\n",
        "    'LOC:city': 32,\n",
        "    'LOC:country': 33,\n",
        "    'LOC:mount': 34,\n",
        "    'LOC:other': 35,\n",
        "    'LOC:state': 36,\n",
        "    'NUM:code': 37,\n",
        "    'NUM:count': 38,\n",
        "    'NUM:date': 39,\n",
        "    'NUM:dist': 40,\n",
        "    'NUM:money': 41,\n",
        "    'NUM:ord': 42,\n",
        "    'NUM:other': 43,\n",
        "    'NUM:perc': 44,\n",
        "    'NUM:period': 45,\n",
        "    'NUM:speed': 46,\n",
        "    'NUM:temp': 47,\n",
        "    'NUM:volsize': 48,\n",
        "    'NUM:weight': 49\n",
        "}\n",
        "\n",
        "label_dict = {v: k for k, v in dictionary.items()} #reversing the dictionary because the above was not appropriate accrding to our case\n"
      ],
      "metadata": {
        "id": "t4Unf3OwFdsp"
      },
      "execution_count": 155,
      "outputs": []
    },
    {
      "cell_type": "code",
      "source": [
        "text = \"what country are you from?\"\n",
        "\n",
        "predicted = predict_(text, model, tokenizer, device)\n",
        "print(\"label predicted = \",label_dict[predicted[0]],\" | \", \"with probability of \", predicted[1])"
      ],
      "metadata": {
        "id": "pzqqe9lia_Zg",
        "execution": {
          "iopub.status.busy": "2023-05-27T08:15:17.983328Z",
          "iopub.execute_input": "2023-05-27T08:15:17.983677Z",
          "iopub.status.idle": "2023-05-27T08:15:18.006567Z",
          "shell.execute_reply.started": "2023-05-27T08:15:17.983648Z",
          "shell.execute_reply": "2023-05-27T08:15:18.005562Z"
        },
        "trusted": true,
        "colab": {
          "base_uri": "https://localhost:8080/"
        },
        "outputId": "23d54cbf-00a7-479b-a705-1c71771d98f8"
      },
      "execution_count": 158,
      "outputs": [
        {
          "output_type": "stream",
          "name": "stdout",
          "text": [
            "label predicted =  LOC:country  |  with probability of  0.9931960105895996\n"
          ]
        }
      ]
    },
    {
      "cell_type": "code",
      "source": [
        "import torch\n",
        "import tqdm\n",
        "import sys\n",
        "from sklearn.metrics import classification_report\n",
        "\n",
        "def evaluate(dataloader, model, criterion, device):\n",
        "    model.eval()  # Sets the model to evaluation mode\n",
        "    epoch_losses = []  # List to store the losses for each batch\n",
        "    epoch_accs = []  # List to store the accuracies for each batch\n",
        "    all_predictions = []  # List to store all predictions\n",
        "    all_labels = []  # List to store all labels\n",
        "\n",
        "    with torch.no_grad():  # Disables gradient computation\n",
        "        for batch in tqdm.tqdm(dataloader, desc='evaluating...', file=sys.stdout):\n",
        "            ids = batch['ids'].to(device)  # Move input tensors to the specified device (e.g., GPU)\n",
        "            label = batch['class'].to(device)  # Move target tensors to the specified device\n",
        "            prediction = model(ids)  # Forward pass through the model to obtain predictions\n",
        "            loss = criterion(prediction, label)  # Calculate the loss using the provided criterion\n",
        "            accuracy = get_accuracy(prediction, label)  # Calculate the accuracy\n",
        "            epoch_losses.append(loss.item())  # Store the loss value in the list\n",
        "            epoch_accs.append(accuracy)  # Store the accuracy value in the list\n",
        "\n",
        "            # Convert prediction and label tensors to CPU and extract the values\n",
        "            prediction_cpu = prediction.cpu().detach().numpy()\n",
        "            label_cpu = label.cpu().detach().numpy()\n",
        "\n",
        "            # Extend the lists with predictions and labels\n",
        "            all_predictions.extend(prediction_cpu)\n",
        "            all_labels.extend(label_cpu)\n",
        "\n",
        "    # Convert predictions and labels to numpy arrays\n",
        "    all_predictions = np.argmax(all_predictions, axis=1)\n",
        "    all_labels = np.array(all_labels)\n",
        "\n",
        "    # Print classification report\n",
        "    report = classification_report(all_labels, all_predictions)\n",
        "    print(report)\n",
        "\n",
        "    return epoch_losses, epoch_accs  # Return the lists of losses and accuracies"
      ],
      "metadata": {
        "execution": {
          "iopub.status.busy": "2023-05-27T17:07:53.576776Z",
          "iopub.execute_input": "2023-05-27T17:07:53.577149Z",
          "iopub.status.idle": "2023-05-27T17:07:53.590837Z",
          "shell.execute_reply.started": "2023-05-27T17:07:53.577118Z",
          "shell.execute_reply": "2023-05-27T17:07:53.589653Z"
        },
        "trusted": true,
        "id": "2nm2Oy0I-8eU"
      },
      "execution_count": 159,
      "outputs": []
    },
    {
      "cell_type": "code",
      "source": [
        "test_loss, test_acc = evaluate(test_dataloader, model, criterion, device)\n",
        "\n",
        "epoch_test_loss = np.mean(test_loss)\n",
        "epoch_test_acc = np.mean(test_acc)\n",
        "\n",
        "print(f'test_loss: {epoch_test_loss:.3f}, test_acc: {epoch_test_acc:.3f}')"
      ],
      "metadata": {
        "execution": {
          "iopub.status.busy": "2023-05-27T17:08:08.151546Z",
          "iopub.execute_input": "2023-05-27T17:08:08.151900Z",
          "iopub.status.idle": "2023-05-27T17:11:04.221192Z",
          "shell.execute_reply.started": "2023-05-27T17:08:08.151873Z",
          "shell.execute_reply": "2023-05-27T17:11:04.220225Z"
        },
        "trusted": true,
        "id": "SkNzv4wE-8eU",
        "outputId": "a3f51cb7-6935-4ebd-8974-72965b9d1c75",
        "colab": {
          "base_uri": "https://localhost:8080/"
        }
      },
      "execution_count": 160,
      "outputs": [
        {
          "output_type": "stream",
          "name": "stdout",
          "text": [
            "evaluating...: 100%|██████████| 773/773 [00:11<00:00, 64.77it/s]\n",
            "              precision    recall  f1-score   support\n",
            "\n",
            "           0       1.00      1.00      1.00         9\n",
            "           1       0.85      0.91      0.88        43\n",
            "           2       0.97      0.95      0.96       245\n",
            "           3       0.95      0.97      0.96       149\n",
            "           4       1.00      0.99      0.99       139\n",
            "           5       0.98      1.00      0.99       120\n",
            "           6       0.97      0.97      0.97        72\n",
            "           7       0.77      1.00      0.87        10\n",
            "           8       1.00      1.00      1.00        27\n",
            "           9       1.00      1.00      1.00       122\n",
            "          10       0.00      0.00      0.00         1\n",
            "          11       0.97      1.00      0.99        72\n",
            "          12       0.91      1.00      0.95        31\n",
            "          13       0.98      0.96      0.97        46\n",
            "          14       1.00      1.00      1.00         6\n",
            "          15       1.00      1.00      1.00        10\n",
            "          16       1.00      1.00      1.00         9\n",
            "          17       0.94      0.93      0.93       110\n",
            "          18       1.00      1.00      1.00         5\n",
            "          19       0.89      1.00      0.94        32\n",
            "          20       0.00      0.00      0.00         1\n",
            "          21       1.00      1.00      1.00        28\n",
            "          22       1.00      1.00      1.00        21\n",
            "          23       1.00      1.00      1.00         7\n",
            "          24       1.00      0.85      0.92        20\n",
            "          25       1.00      0.91      0.95        57\n",
            "          26       1.00      0.81      0.90        16\n",
            "          27       0.94      1.00      0.97        17\n",
            "          28       0.97      1.00      0.98        29\n",
            "          29       0.98      0.98      0.98        95\n",
            "          30       0.99      1.00      1.00       564\n",
            "          31       0.90      1.00      0.95         9\n",
            "          32       0.96      1.00      0.98        66\n",
            "          33       0.96      1.00      0.98        91\n",
            "          34       1.00      1.00      1.00        13\n",
            "          35       1.00      0.97      0.98       264\n",
            "          36       1.00      1.00      1.00        34\n",
            "          37       1.00      1.00      1.00         6\n",
            "          38       1.00      1.00      1.00       206\n",
            "          39       0.99      1.00      1.00       123\n",
            "          40       1.00      0.94      0.97        17\n",
            "          41       1.00      1.00      1.00        32\n",
            "          42       1.00      0.25      0.40         4\n",
            "          43       0.97      1.00      0.98        28\n",
            "          44       1.00      1.00      1.00        16\n",
            "          45       0.98      1.00      0.99        42\n",
            "          46       1.00      1.00      1.00        10\n",
            "          47       1.00      1.00      1.00         4\n",
            "          48       0.80      1.00      0.89         8\n",
            "          49       1.00      1.00      1.00         5\n",
            "\n",
            "    accuracy                           0.98      3091\n",
            "   macro avg       0.93      0.93      0.92      3091\n",
            "weighted avg       0.98      0.98      0.98      3091\n",
            "\n",
            "test_loss: 0.125, test_acc: 0.979\n"
          ]
        },
        {
          "output_type": "stream",
          "name": "stderr",
          "text": [
            "/usr/local/lib/python3.10/dist-packages/sklearn/metrics/_classification.py:1344: UndefinedMetricWarning: Precision and F-score are ill-defined and being set to 0.0 in labels with no predicted samples. Use `zero_division` parameter to control this behavior.\n",
            "  _warn_prf(average, modifier, msg_start, len(result))\n",
            "/usr/local/lib/python3.10/dist-packages/sklearn/metrics/_classification.py:1344: UndefinedMetricWarning: Precision and F-score are ill-defined and being set to 0.0 in labels with no predicted samples. Use `zero_division` parameter to control this behavior.\n",
            "  _warn_prf(average, modifier, msg_start, len(result))\n",
            "/usr/local/lib/python3.10/dist-packages/sklearn/metrics/_classification.py:1344: UndefinedMetricWarning: Precision and F-score are ill-defined and being set to 0.0 in labels with no predicted samples. Use `zero_division` parameter to control this behavior.\n",
            "  _warn_prf(average, modifier, msg_start, len(result))\n"
          ]
        }
      ]
    },
    {
      "cell_type": "code",
      "source": [],
      "metadata": {
        "id": "xGWo3z7u-8eU"
      },
      "execution_count": null,
      "outputs": []
    }
  ]
}